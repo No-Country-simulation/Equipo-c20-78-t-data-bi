{
 "cells": [
  {
   "cell_type": "markdown",
   "metadata": {},
   "source": [
    "# Preparacion de los datos"
   ]
  },
  {
   "cell_type": "code",
   "execution_count": 377,
   "metadata": {},
   "outputs": [],
   "source": [
    "# Bibliotecas para Manipulación de Datos y Análisis\n",
    "import pandas as pd\n",
    "import numpy as np\n",
    "\n",
    "# Visualización\n",
    "import matplotlib.pyplot as plt\n",
    "import seaborn as sns\n",
    "import missingno as msno\n",
    "\n",
    "# Operaciones del sistema operativo\n",
    "import os\n",
    "\n",
    "# traduccion de texto\n",
    "from googletrans import Translator\n",
    "\n",
    "# Preprocesamiento y Escalado\n",
    "from sklearn.impute import SimpleImputer\n",
    "from sklearn.preprocessing import OrdinalEncoder, LabelEncoder, RobustScaler, StandardScaler\n",
    "from sklearn.compose import ColumnTransformer"
   ]
  },
  {
   "cell_type": "code",
   "execution_count": 378,
   "metadata": {},
   "outputs": [],
   "source": [
    "# Configuro los parámetros iniciales de matplotlib para estandarizar los gráficos\n",
    "params = {\n",
    "    'figure.figsize': (16, 10),  # Establezco el tamaño de cada gráfico\n",
    "    'figure.dpi': 80,  # Configuro la resolución por pulgada\n",
    "    'figure.facecolor': 'white',  # Defino el color de fondo\n",
    "    'figure.edgecolor': 'white',  # Defino el color del borde\n",
    "    'figure.frameon': True,  # Mantengo el borde del gráfico activado\n",
    "    'figure.constrained_layout.use': False,  # Desactivo el diseño restringido para las figuras\n",
    "    'figure.constrained_layout.h_pad': 0.04167,  # Espaciado horizontal en el diseño restringido\n",
    "    'figure.constrained_layout.w_pad': 0.04167,  # Espaciado vertical en el diseño restringido\n",
    "    'axes.labelsize': 12,  # Establezco el tamaño de las etiquetas de los ejes\n",
    "    'axes.titlesize': 14,  # Establezco el tamaño del título\n",
    "    'axes.labelweight': 'normal',  # Configuro el grosor de la fuente de las etiquetas\n",
    "    'xtick.labelsize': 10,  # Defino el tamaño de las etiquetas del eje x\n",
    "    'ytick.labelsize': 10,  # Defino el tamaño de las etiquetas del eje y\n",
    "    'xtick.color': 'black',  # Configuro el color de las etiquetas del eje x\n",
    "    'ytick.color': 'black',  # Configuro el color de las etiquetas del eje y\n",
    "    'axes.spines.top': True,  # Mantengo visible el borde superior del gráfico\n",
    "    'axes.spines.right': True,  # Mantengo visible el borde derecho del gráfico\n",
    "    'legend.frameon': True,  # Mantengo visible el marco de la leyenda\n",
    "    'grid.linestyle': '-',  # Defino el estilo de las líneas de la cuadrícula\n",
    "    'grid.linewidth': 0.8,  # Configuro el grosor de las líneas de la cuadrícula\n",
    "    'grid.color': 'gray',  # Establezco el color de las líneas de la cuadrícula\n",
    "    'legend.fontsize': 10,  # Configuro el tamaño de la fuente de la leyenda\n",
    "    'axes.titleweight': 'normal',  # Establezco el grosor de la fuente del título\n",
    "    'axes.titlecolor': 'black',  # Configuro el color del título\n",
    "    'axes.titlelocation': 'center',  # Coloco el título en el centro del gráfico\n",
    "}\n",
    "\n",
    "# Actualizo los parámetros de Matplotlib con la configuración establecida\n",
    "plt.rcParams.update(params)\n",
    "\n",
    "# Aplico el tema de tableau\n",
    "plt.style.use('tableau-colorblind10')\n",
    "\n",
    "# Activo la visualización de gráficos en línea (dentro de la celda de código)\n",
    "%matplotlib inline"
   ]
  },
  {
   "cell_type": "markdown",
   "metadata": {},
   "source": [
    "### Funcion para renombramiento de columnas"
   ]
  },
  {
   "cell_type": "markdown",
   "metadata": {},
   "source": [
    "**snake_case**"
   ]
  },
  {
   "cell_type": "code",
   "execution_count": 379,
   "metadata": {},
   "outputs": [],
   "source": [
    "def snake_case(column_name):\n",
    "    '''\n",
    "    Recibe el nombre de la columna como argumento y retorna el mismo en formato snake_case.\n",
    "    \n",
    "    args:\n",
    "    - columns_name: nombre origina de la columna del dataset\n",
    "    return:\n",
    "    - column_name: Nombre de la columna en formato snake_case\n",
    "    '''\n",
    "    column_name = column_name.lower()\n",
    "    column_name = column_name.replace(' ', '_')\n",
    "    return column_name"
   ]
  },
  {
   "cell_type": "markdown",
   "metadata": {},
   "source": [
    "**Eliminar signos extraños**"
   ]
  },
  {
   "cell_type": "code",
   "execution_count": 380,
   "metadata": {},
   "outputs": [],
   "source": [
    "def clean_signs(column_name, list_signs):\n",
    "    '''\n",
    "    Recibe como argumento el nombre de la columna y una lista de signos a eliminar y retorna el nombre\n",
    "    sin los signos.\n",
    "    \n",
    "    args:\n",
    "    - columns_name: nombre origina de la columna del dataset.\n",
    "    - list_signs: Lista de signos a eliminar del nombre de la columna.\n",
    "    return:\n",
    "    - column_name: Nombre de la columna en formato snake_case\n",
    "    '''\n",
    "    for sign in list_signs:\n",
    "        column_name = column_name.replace(sign, '')\n",
    "    return column_name"
   ]
  },
  {
   "cell_type": "markdown",
   "metadata": {},
   "source": [
    "**Texto a minusculas**"
   ]
  },
  {
   "cell_type": "code",
   "execution_count": 381,
   "metadata": {},
   "outputs": [],
   "source": [
    "def text_to_lower(column_name):\n",
    "    '''\n",
    "    Recibe el nombre de la columna como argumento y retorna el mismo en minusculas.\n",
    "    \n",
    "    args:\n",
    "    - columns_name: nombre original de la columna del dataset\n",
    "    return:\n",
    "    - column_name: Nombre de la columna en minusculas.\n",
    "    '''\n",
    "    column_name = column_name.str.lower()\n",
    "    return column_name"
   ]
  },
  {
   "cell_type": "markdown",
   "metadata": {},
   "source": [
    "Traduccion de texto"
   ]
  },
  {
   "cell_type": "code",
   "execution_count": 382,
   "metadata": {},
   "outputs": [],
   "source": [
    "#a implementar en caso de futuras versiones\n",
    "\n",
    "'''def translate_unique_values(column, src='en', dest='es'):\n",
    "    unique_values = column.unique()  # Obtener los valores únicos\n",
    "    translations = {}\n",
    "\n",
    "    # Traducir cada valor único\n",
    "    for value in unique_values:\n",
    "        if pd.notnull(value) and isinstance(value, str):\n",
    "            try:\n",
    "                translations[value] = translator.translate(value, src=src, dest=dest).text\n",
    "            except Exception as e:\n",
    "                print(f\"Error al traducir {value}: {e}\")\n",
    "                translations[value] = value  # Mantener el valor original en caso de error\n",
    "        else:\n",
    "            translations[value] = value  # Mantener el valor original si es nulo o no es string\n",
    "\n",
    "    # Reemplazar los valores originales con las traducciones\n",
    "    return column.map(translations)'''"
   ]
  },
  {
   "cell_type": "markdown",
   "metadata": {},
   "source": [
    "## Lectura de csv"
   ]
  },
  {
   "cell_type": "code",
   "execution_count": 383,
   "metadata": {},
   "outputs": [],
   "source": [
    "# lectura del dataset en bruto\n",
    "df_path = '../data/1_bronze/shopping_behavior_updated.csv'\n",
    "df = pd.read_csv(df_path)"
   ]
  },
  {
   "cell_type": "code",
   "execution_count": 384,
   "metadata": {},
   "outputs": [],
   "source": [
    "# creo una copia del dataframe original que almacenare en un nuevo df de procesamiento\n",
    "df_processed = df.copy()"
   ]
  },
  {
   "cell_type": "code",
   "execution_count": 445,
   "metadata": {},
   "outputs": [
    {
     "data": {
      "text/html": [
       "<div>\n",
       "<style scoped>\n",
       "    .dataframe tbody tr th:only-of-type {\n",
       "        vertical-align: middle;\n",
       "    }\n",
       "\n",
       "    .dataframe tbody tr th {\n",
       "        vertical-align: top;\n",
       "    }\n",
       "\n",
       "    .dataframe thead th {\n",
       "        text-align: right;\n",
       "    }\n",
       "</style>\n",
       "<table border=\"1\" class=\"dataframe\">\n",
       "  <thead>\n",
       "    <tr style=\"text-align: right;\">\n",
       "      <th></th>\n",
       "      <th>customer_id</th>\n",
       "      <th>age</th>\n",
       "      <th>gender</th>\n",
       "      <th>item_purchased</th>\n",
       "      <th>category</th>\n",
       "      <th>purchase_amount_usd</th>\n",
       "      <th>location</th>\n",
       "      <th>size</th>\n",
       "      <th>color</th>\n",
       "      <th>season</th>\n",
       "      <th>review_rating</th>\n",
       "      <th>subscription_status</th>\n",
       "      <th>shipping_type</th>\n",
       "      <th>promo_code_used</th>\n",
       "      <th>previous_purchases</th>\n",
       "      <th>payment_method</th>\n",
       "      <th>frequency_of_purchases</th>\n",
       "      <th>vital_stages</th>\n",
       "    </tr>\n",
       "  </thead>\n",
       "  <tbody>\n",
       "    <tr>\n",
       "      <th>2990</th>\n",
       "      <td>2991</td>\n",
       "      <td>69</td>\n",
       "      <td>female</td>\n",
       "      <td>shirt</td>\n",
       "      <td>clothing</td>\n",
       "      <td>91</td>\n",
       "      <td>illinois</td>\n",
       "      <td>m</td>\n",
       "      <td>teal</td>\n",
       "      <td>fall</td>\n",
       "      <td>4.2</td>\n",
       "      <td>no</td>\n",
       "      <td>free shipping</td>\n",
       "      <td>no</td>\n",
       "      <td>24</td>\n",
       "      <td>venmo</td>\n",
       "      <td>monthly</td>\n",
       "      <td>tercera_edad</td>\n",
       "    </tr>\n",
       "    <tr>\n",
       "      <th>1314</th>\n",
       "      <td>1315</td>\n",
       "      <td>42</td>\n",
       "      <td>male</td>\n",
       "      <td>boots</td>\n",
       "      <td>footwear</td>\n",
       "      <td>67</td>\n",
       "      <td>missouri</td>\n",
       "      <td>s</td>\n",
       "      <td>magenta</td>\n",
       "      <td>summer</td>\n",
       "      <td>3.4</td>\n",
       "      <td>no</td>\n",
       "      <td>free shipping</td>\n",
       "      <td>yes</td>\n",
       "      <td>49</td>\n",
       "      <td>debit card</td>\n",
       "      <td>annually</td>\n",
       "      <td>adulto</td>\n",
       "    </tr>\n",
       "    <tr>\n",
       "      <th>3265</th>\n",
       "      <td>3266</td>\n",
       "      <td>40</td>\n",
       "      <td>female</td>\n",
       "      <td>sunglasses</td>\n",
       "      <td>accessories</td>\n",
       "      <td>100</td>\n",
       "      <td>alabama</td>\n",
       "      <td>m</td>\n",
       "      <td>white</td>\n",
       "      <td>winter</td>\n",
       "      <td>3.2</td>\n",
       "      <td>no</td>\n",
       "      <td>express</td>\n",
       "      <td>no</td>\n",
       "      <td>28</td>\n",
       "      <td>credit card</td>\n",
       "      <td>bi-weekly</td>\n",
       "      <td>adulto</td>\n",
       "    </tr>\n",
       "    <tr>\n",
       "      <th>3399</th>\n",
       "      <td>3400</td>\n",
       "      <td>40</td>\n",
       "      <td>female</td>\n",
       "      <td>pants</td>\n",
       "      <td>clothing</td>\n",
       "      <td>55</td>\n",
       "      <td>montana</td>\n",
       "      <td>xl</td>\n",
       "      <td>yellow</td>\n",
       "      <td>winter</td>\n",
       "      <td>3.3</td>\n",
       "      <td>no</td>\n",
       "      <td>standard</td>\n",
       "      <td>no</td>\n",
       "      <td>36</td>\n",
       "      <td>debit card</td>\n",
       "      <td>annually</td>\n",
       "      <td>adulto</td>\n",
       "    </tr>\n",
       "  </tbody>\n",
       "</table>\n",
       "</div>"
      ],
      "text/plain": [
       "     customer_id  age  gender item_purchased     category  \\\n",
       "2990        2991   69  female          shirt     clothing   \n",
       "1314        1315   42    male          boots     footwear   \n",
       "3265        3266   40  female     sunglasses  accessories   \n",
       "3399        3400   40  female          pants     clothing   \n",
       "\n",
       "      purchase_amount_usd  location size    color  season  review_rating  \\\n",
       "2990                   91  illinois    m     teal    fall            4.2   \n",
       "1314                   67  missouri    s  magenta  summer            3.4   \n",
       "3265                  100   alabama    m    white  winter            3.2   \n",
       "3399                   55   montana   xl   yellow  winter            3.3   \n",
       "\n",
       "     subscription_status  shipping_type promo_code_used  previous_purchases  \\\n",
       "2990                  no  free shipping              no                  24   \n",
       "1314                  no  free shipping             yes                  49   \n",
       "3265                  no        express              no                  28   \n",
       "3399                  no       standard              no                  36   \n",
       "\n",
       "     payment_method frequency_of_purchases  vital_stages  \n",
       "2990          venmo                monthly  tercera_edad  \n",
       "1314     debit card               annually        adulto  \n",
       "3265    credit card              bi-weekly        adulto  \n",
       "3399     debit card               annually        adulto  "
      ]
     },
     "execution_count": 445,
     "metadata": {},
     "output_type": "execute_result"
    }
   ],
   "source": [
    "# muestra aleatoria del dataset para explorar su composicion\n",
    "df_processed.sample(4, random_state=3)"
   ]
  },
  {
   "cell_type": "markdown",
   "metadata": {},
   "source": [
    "## Limpieza"
   ]
  },
  {
   "cell_type": "markdown",
   "metadata": {},
   "source": [
    "### Valores nulos"
   ]
  },
  {
   "cell_type": "markdown",
   "metadata": {},
   "source": [
    "Deteccion y visualizacion"
   ]
  },
  {
   "cell_type": "code",
   "execution_count": 386,
   "metadata": {},
   "outputs": [],
   "source": [
    "# lista con convenciones de valores nulos en strings\n",
    "\n",
    "common_na_strings = [\"faltante\", \"NA\", \"N A\", \"N/A\", \"#N/A\", \"NA \", \" NA\", \"N /A\", \"N / A\", \" N / A\",\n",
    "                     \"N / A \", \"na\", \"n a\", \"n/a\", \"na \",\" na\", \"n /a\", \"n / a\", \" a / a\", \"n / a \",\n",
    "                     \"NULO\", \"nulo\", \"\", \"?\", \"*\", \".\", \" \", \"  \", \"-\", \"--\", \"---\", \"----\", \n",
    "                     \"MISSING\", \"Missing\", \"missing\", \"NULL\", \"null\", \"Null\", \"none\", \"None\", \"NONE\",\n",
    "                     \"NaN\", \"nan\", \"NAN\", \"UNDEFINED\", \"undefined\", \"Undefined\", \"UNKNOWN\", \"unknown\", \n",
    "                     \"Unknown\", \"NOT AVAILABLE\", \"not available\", \"Not Available\", \"NOT APPLICABLE\", \n",
    "                     \"not applicable\", \"Not Applicable\", \"NOT GIVEN\", \"not given\", \"Not Given\", \n",
    "                     \"NOT RECORDED\", \"not recorded\", \"Not Recorded\", \"EMPTY\", \"empty\", \"Empty\", \n",
    "                     \"BLANK\", \"blank\", \"Blank\", \"NO DATA\", \"no data\", \"No Data\", \"-999\", \"-9999\", \n",
    "                     \"-1\", \"none available\", \"none provided\", \"not provided\", \"unavailable\", \n",
    "                     \"no value\", \"not specified\", \"unlisted\", \"no entry\"]"
   ]
  },
  {
   "cell_type": "code",
   "execution_count": 387,
   "metadata": {},
   "outputs": [],
   "source": [
    "# remplazo las posibles convenciones de valores nulos dentro del dataframe, por valores nulos np.nan detectados por numpy\n",
    "df_processed = df_processed.replace(\n",
    "    to_replace=common_na_strings,\n",
    "    value=np.nan\n",
    ")"
   ]
  },
  {
   "cell_type": "code",
   "execution_count": 388,
   "metadata": {},
   "outputs": [
    {
     "data": {
      "image/png": "[encoded data removed]",
      "text/plain": [
       "<Figure size 2000x800 with 3 Axes>"
      ]
     },
     "metadata": {},
     "output_type": "display_data"
    }
   ],
   "source": [
    "# visualizacion de los posibles nulos\n",
    "msno.bar(df_processed)\n",
    "plt.show()"
   ]
  },
  {
   "cell_type": "code",
   "execution_count": 390,
   "metadata": {},
   "outputs": [
    {
     "data": {
      "text/plain": [
       "0"
      ]
     },
     "execution_count": 390,
     "metadata": {},
     "output_type": "execute_result"
    }
   ],
   "source": [
    "# Compruebo que no hay ningun nulo por medio de una sumatoria\n",
    "df_processed.isnull().sum().sum()"
   ]
  },
  {
   "cell_type": "markdown",
   "metadata": {},
   "source": [
    "No se obvservo ningun tipo de nulo en las columnas del dataset."
   ]
  },
  {
   "cell_type": "markdown",
   "metadata": {},
   "source": [
    "## Ingenieria de caracteristicas"
   ]
  },
  {
   "cell_type": "code",
   "execution_count": 391,
   "metadata": {},
   "outputs": [
    {
     "data": {
      "text/html": [
       "<div>\n",
       "<style scoped>\n",
       "    .dataframe tbody tr th:only-of-type {\n",
       "        vertical-align: middle;\n",
       "    }\n",
       "\n",
       "    .dataframe tbody tr th {\n",
       "        vertical-align: top;\n",
       "    }\n",
       "\n",
       "    .dataframe thead th {\n",
       "        text-align: right;\n",
       "    }\n",
       "</style>\n",
       "<table border=\"1\" class=\"dataframe\">\n",
       "  <thead>\n",
       "    <tr style=\"text-align: right;\">\n",
       "      <th></th>\n",
       "      <th>Customer ID</th>\n",
       "      <th>Age</th>\n",
       "      <th>Gender</th>\n",
       "      <th>Item Purchased</th>\n",
       "      <th>Category</th>\n",
       "      <th>Purchase Amount (USD)</th>\n",
       "      <th>Location</th>\n",
       "      <th>Size</th>\n",
       "      <th>Color</th>\n",
       "      <th>Season</th>\n",
       "      <th>Review Rating</th>\n",
       "      <th>Subscription Status</th>\n",
       "      <th>Shipping Type</th>\n",
       "      <th>Discount Applied</th>\n",
       "      <th>Promo Code Used</th>\n",
       "      <th>Previous Purchases</th>\n",
       "      <th>Payment Method</th>\n",
       "      <th>Frequency of Purchases</th>\n",
       "    </tr>\n",
       "  </thead>\n",
       "  <tbody>\n",
       "    <tr>\n",
       "      <th>300</th>\n",
       "      <td>301</td>\n",
       "      <td>29</td>\n",
       "      <td>Male</td>\n",
       "      <td>Hat</td>\n",
       "      <td>Accessories</td>\n",
       "      <td>98</td>\n",
       "      <td>Iowa</td>\n",
       "      <td>M</td>\n",
       "      <td>Teal</td>\n",
       "      <td>Spring</td>\n",
       "      <td>4.4</td>\n",
       "      <td>Yes</td>\n",
       "      <td>Store Pickup</td>\n",
       "      <td>Yes</td>\n",
       "      <td>Yes</td>\n",
       "      <td>24</td>\n",
       "      <td>PayPal</td>\n",
       "      <td>Weekly</td>\n",
       "    </tr>\n",
       "    <tr>\n",
       "      <th>39</th>\n",
       "      <td>40</td>\n",
       "      <td>70</td>\n",
       "      <td>Male</td>\n",
       "      <td>Pants</td>\n",
       "      <td>Clothing</td>\n",
       "      <td>60</td>\n",
       "      <td>Arizona</td>\n",
       "      <td>S</td>\n",
       "      <td>Turquoise</td>\n",
       "      <td>Summer</td>\n",
       "      <td>4.2</td>\n",
       "      <td>Yes</td>\n",
       "      <td>Express</td>\n",
       "      <td>Yes</td>\n",
       "      <td>Yes</td>\n",
       "      <td>18</td>\n",
       "      <td>Credit Card</td>\n",
       "      <td>Monthly</td>\n",
       "    </tr>\n",
       "    <tr>\n",
       "      <th>2357</th>\n",
       "      <td>2358</td>\n",
       "      <td>53</td>\n",
       "      <td>Male</td>\n",
       "      <td>Shirt</td>\n",
       "      <td>Clothing</td>\n",
       "      <td>67</td>\n",
       "      <td>Michigan</td>\n",
       "      <td>L</td>\n",
       "      <td>Cyan</td>\n",
       "      <td>Fall</td>\n",
       "      <td>4.2</td>\n",
       "      <td>No</td>\n",
       "      <td>2-Day Shipping</td>\n",
       "      <td>No</td>\n",
       "      <td>No</td>\n",
       "      <td>40</td>\n",
       "      <td>Credit Card</td>\n",
       "      <td>Bi-Weekly</td>\n",
       "    </tr>\n",
       "    <tr>\n",
       "      <th>3682</th>\n",
       "      <td>3683</td>\n",
       "      <td>42</td>\n",
       "      <td>Female</td>\n",
       "      <td>Shirt</td>\n",
       "      <td>Clothing</td>\n",
       "      <td>60</td>\n",
       "      <td>Wyoming</td>\n",
       "      <td>M</td>\n",
       "      <td>Maroon</td>\n",
       "      <td>Fall</td>\n",
       "      <td>4.6</td>\n",
       "      <td>No</td>\n",
       "      <td>Store Pickup</td>\n",
       "      <td>No</td>\n",
       "      <td>No</td>\n",
       "      <td>46</td>\n",
       "      <td>Venmo</td>\n",
       "      <td>Bi-Weekly</td>\n",
       "    </tr>\n",
       "  </tbody>\n",
       "</table>\n",
       "</div>"
      ],
      "text/plain": [
       "      Customer ID  Age  Gender Item Purchased     Category  \\\n",
       "300           301   29    Male            Hat  Accessories   \n",
       "39             40   70    Male          Pants     Clothing   \n",
       "2357         2358   53    Male          Shirt     Clothing   \n",
       "3682         3683   42  Female          Shirt     Clothing   \n",
       "\n",
       "      Purchase Amount (USD)  Location Size      Color  Season  Review Rating  \\\n",
       "300                      98      Iowa    M       Teal  Spring            4.4   \n",
       "39                       60   Arizona    S  Turquoise  Summer            4.2   \n",
       "2357                     67  Michigan    L       Cyan    Fall            4.2   \n",
       "3682                     60   Wyoming    M     Maroon    Fall            4.6   \n",
       "\n",
       "     Subscription Status   Shipping Type Discount Applied Promo Code Used  \\\n",
       "300                  Yes    Store Pickup              Yes             Yes   \n",
       "39                   Yes         Express              Yes             Yes   \n",
       "2357                  No  2-Day Shipping               No              No   \n",
       "3682                  No    Store Pickup               No              No   \n",
       "\n",
       "      Previous Purchases Payment Method Frequency of Purchases  \n",
       "300                   24         PayPal                 Weekly  \n",
       "39                    18    Credit Card                Monthly  \n",
       "2357                  40    Credit Card              Bi-Weekly  \n",
       "3682                  46          Venmo              Bi-Weekly  "
      ]
     },
     "execution_count": 391,
     "metadata": {},
     "output_type": "execute_result"
    }
   ],
   "source": [
    "# muestra aleatoria del conjunto de datos, para corroborar el tipo de transformaciones a aplicar\n",
    "df_processed.sample(4)"
   ]
  },
  {
   "cell_type": "code",
   "execution_count": 392,
   "metadata": {},
   "outputs": [
    {
     "data": {
      "text/plain": [
       "Customer ID                 int64\n",
       "Age                         int64\n",
       "Gender                     object\n",
       "Item Purchased             object\n",
       "Category                   object\n",
       "Purchase Amount (USD)       int64\n",
       "Location                   object\n",
       "Size                       object\n",
       "Color                      object\n",
       "Season                     object\n",
       "Review Rating             float64\n",
       "Subscription Status        object\n",
       "Shipping Type              object\n",
       "Discount Applied           object\n",
       "Promo Code Used            object\n",
       "Previous Purchases          int64\n",
       "Payment Method             object\n",
       "Frequency of Purchases     object\n",
       "dtype: object"
      ]
     },
     "execution_count": 392,
     "metadata": {},
     "output_type": "execute_result"
    }
   ],
   "source": [
    "df_processed.dtypes"
   ]
  },
  {
   "cell_type": "markdown",
   "metadata": {},
   "source": [
    "### Seleccion manual de caracteristicas"
   ]
  },
  {
   "cell_type": "code",
   "execution_count": 393,
   "metadata": {},
   "outputs": [],
   "source": [
    "# elimino la columna 'Discount Applied' ya que es un duplicado de la columna 'Promo code used'\n",
    "df_processed.drop(columns='Discount Applied', inplace=True)"
   ]
  },
  {
   "cell_type": "markdown",
   "metadata": {},
   "source": [
    "### Nombres de columnas"
   ]
  },
  {
   "cell_type": "code",
   "execution_count": 394,
   "metadata": {},
   "outputs": [],
   "source": [
    "# Renombro la columna category para que sea mas representativa\n",
    "df_processed.rename(columns={'category':'category_item'}, inplace=True)"
   ]
  },
  {
   "cell_type": "markdown",
   "metadata": {},
   "source": [
    "#### Estandarizacion y re-nombramiento"
   ]
  },
  {
   "cell_type": "code",
   "execution_count": 395,
   "metadata": {},
   "outputs": [],
   "source": [
    "# lista de signos a eliminar de las columnas\n",
    "list_signs = ['(', ')']\n",
    "# lista de las columnas\n",
    "columns = df_processed.columns"
   ]
  },
  {
   "cell_type": "code",
   "execution_count": 396,
   "metadata": {},
   "outputs": [],
   "source": [
    "# aplico formato snake_case a cada nombre de las columnas\n",
    "columns = list(map(snake_case, columns))\n",
    "# elimino signos de los nombres de las columnas\n",
    "columns = list(map(lambda col: clean_signs(column_name=col, list_signs=list_signs), columns))"
   ]
  },
  {
   "cell_type": "markdown",
   "metadata": {},
   "source": [
    "### Valores tipo texto"
   ]
  },
  {
   "cell_type": "code",
   "execution_count": 398,
   "metadata": {},
   "outputs": [],
   "source": [
    "# paso los valores que no son numericos a minuscula\n",
    "df_processed[df_processed.select_dtypes(exclude='number').columns] = df_processed[df_processed.select_dtypes(exclude='number').columns].apply(text_to_lower)"
   ]
  },
  {
   "cell_type": "markdown",
   "metadata": {},
   "source": [
    "Separacion de tipos de columnas"
   ]
  },
  {
   "cell_type": "code",
   "execution_count": 399,
   "metadata": {},
   "outputs": [],
   "source": [
    "# separo las columnas en dos categorias principales: no numericas y numericas\n",
    "no_numbers_columns = df_processed.select_dtypes(exclude='number').columns \n",
    "number_columns = df_processed.select_dtypes(include='number').columns"
   ]
  },
  {
   "cell_type": "markdown",
   "metadata": {},
   "source": [
    "Traduccion (aplicara en caso de una futura version)"
   ]
  },
  {
   "cell_type": "code",
   "execution_count": 400,
   "metadata": {},
   "outputs": [
    {
     "data": {
      "text/plain": [
       "'\\ntranslator = Translator()\\n\\nfor col in df_processed[no_numbers_columns].columns:\\n    df_processed[col] = translate_unique_values(df_processed[col])\\n\\ncolumns = pd.Series(df_processed.columns)\\ncolumns_es = translate_unique_values(columns)\\ndf_processed.columns = columns_es\\n'"
      ]
     },
     "execution_count": 400,
     "metadata": {},
     "output_type": "execute_result"
    }
   ],
   "source": [
    "'''\n",
    "translator = Translator()\n",
    "\n",
    "for col in df_processed[no_numbers_columns].columns:\n",
    "    df_processed[col] = translate_unique_values(df_processed[col])\n",
    "\n",
    "columns = pd.Series(df_processed.columns)\n",
    "columns_es = translate_unique_values(columns)\n",
    "df_processed.columns = columns_es\n",
    "'''"
   ]
  },
  {
   "cell_type": "markdown",
   "metadata": {},
   "source": [
    "### Tipos de datos"
   ]
  },
  {
   "cell_type": "code",
   "execution_count": 401,
   "metadata": {},
   "outputs": [],
   "source": [
    "# convierto el tipo de datos\n",
    "df_processed = df_processed.convert_dtypes(infer_objects=True)"
   ]
  },
  {
   "cell_type": "markdown",
   "metadata": {},
   "source": [
    "**Datos cualitativos: nominales u ordinales**"
   ]
  },
  {
   "cell_type": "code",
   "execution_count": 402,
   "metadata": {},
   "outputs": [],
   "source": [
    "# renombro valores redundantes / equivalentes de la columna 'frequency_of_purchases'\n",
    "df_processed.loc[df_processed['frequency_of_purchases']=='every 3 months', 'frequency_of_purchases'] = 'quarterly'\n",
    "df_processed.loc[df_processed['frequency_of_purchases']=='fortnightly', 'frequency_of_purchases'] = 'bi-weekly'"
   ]
  },
  {
   "cell_type": "code",
   "execution_count": 403,
   "metadata": {},
   "outputs": [],
   "source": [
    "# convierto las columnas object a categoricas, ya que en el mayor de los casos, la proporcion de datos unicos por columna no supera el 5% sobre el total e 4000 registros\n",
    "df_processed[no_numbers_columns] = df_processed[no_numbers_columns].astype('category')"
   ]
  },
  {
   "cell_type": "code",
   "execution_count": 404,
   "metadata": {},
   "outputs": [],
   "source": [
    "# convierto el tipo de dato de la columna 'customer_id' a object, ya que no se realizaran calculos numericos con ella\n",
    "df_processed['customer_id'] = df_processed['customer_id'].astype('object')"
   ]
  },
  {
   "cell_type": "markdown",
   "metadata": {},
   "source": [
    "**Datos cuantitativos**"
   ]
  },
  {
   "cell_type": "markdown",
   "metadata": {},
   "source": [
    "Rangos o clases"
   ]
  },
  {
   "cell_type": "code",
   "execution_count": 405,
   "metadata": {},
   "outputs": [],
   "source": [
    "# creo una columna categorica de rango 'vital_stages' derivada de 'age'.\n",
    "bins = [0, 10, 12, 20, 60, 80, 110]\n",
    "labels = [\"niño\", \"preadolescente\", \"adolescente\", \"adulto\", \"tercera_edad\", \"cuarta_edad\"]\n",
    "\n",
    "df_processed['vital_stages'] = pd.cut(df_processed['age'], bins=bins, labels=labels, right=False)"
   ]
  },
  {
   "cell_type": "markdown",
   "metadata": {},
   "source": [
    "### Codificacion de datos"
   ]
  },
  {
   "cell_type": "markdown",
   "metadata": {},
   "source": [
    "Variables categoricas ordinales"
   ]
  },
  {
   "cell_type": "code",
   "execution_count": 406,
   "metadata": {},
   "outputs": [],
   "source": [
    "# defino un diccionario con las categorías en orden\n",
    "\n",
    "ordinal_variables = {\n",
    "    'size': ['s', 'm', 'l', 'xl'],\n",
    "    'subscription_status': ['no', 'yes'],\n",
    "    'promo_code_used': ['no', 'yes'],\n",
    "    'frequency_of_purchases': ['weekly', 'bi-weekly', 'monthly', 'quarterly', 'annually'],\n",
    "    'vital_stages': ['adolescente', 'adulto', 'tercera_edad'],\n",
    "    'season': ['winter', 'spring', 'summer', 'fall']\n",
    "}"
   ]
  },
  {
   "cell_type": "markdown",
   "metadata": {},
   "source": [
    "Variables categoricas nominales"
   ]
  },
  {
   "cell_type": "code",
   "execution_count": 407,
   "metadata": {},
   "outputs": [],
   "source": [
    "# separo las columnas nominales\n",
    "nominal_variables = df_processed.select_dtypes(include='category').columns\n",
    "nominal_variables = [col for col in nominal_variables if col not in ordinal_variables.keys()]"
   ]
  },
  {
   "cell_type": "code",
   "execution_count": 408,
   "metadata": {},
   "outputs": [],
   "source": [
    "# Inicializo un DataFrame vacío (solo si quieres almacenar los datos codificados por separado)\n",
    "df_nominal_encoded_variables = pd.DataFrame()\n",
    "\n",
    "# Inicializo el diccionario labelencoder\n",
    "label_encoders = {col: LabelEncoder() for col in nominal_variables}\n",
    "\n",
    "# Aplico el codificador a las columnas nominales y las almaceno en df_nominal_encoded_variables\n",
    "for col in nominal_variables:\n",
    "    df_nominal_encoded_variables['nom__' + col] = label_encoders[col].fit_transform(df_processed[col])"
   ]
  },
  {
   "cell_type": "code",
   "execution_count": 409,
   "metadata": {},
   "outputs": [],
   "source": [
    "# muestro los mapeos de cada variable nominal\n",
    "equivalences_nominal_features_dict = {}\n",
    "# obtengo las equivalencias de las columnas nominales\n",
    "for col in nominal_variables:\n",
    "    equivalences_nominal_features_dict[f\"Equivalencias para la columna {col}:\"] = dict(zip(label_encoders[col].classes_, label_encoders[col].transform(label_encoders[col].classes_)))"
   ]
  },
  {
   "cell_type": "code",
   "execution_count": 410,
   "metadata": {},
   "outputs": [],
   "source": [
    "# Instancio el transformador dentro del pipeline\n",
    "codification_ordinal_variables = ColumnTransformer(\n",
    "    transformers=[\n",
    "        ('ord', OrdinalEncoder(categories=list(ordinal_variables.values())), list(ordinal_variables.keys()))\n",
    "    ],\n",
    "    remainder='passthrough'  # Esto asegura que las columnas que no se transforman se mantengan intactas\n",
    ")\n",
    "\n",
    "# Aplico el transformador al DataFrame original\n",
    "df_ordinal_encoded_variables = pd.DataFrame(\n",
    "    codification_ordinal_variables.fit_transform(df), \n",
    "    columns=codification_ordinal_variables.get_feature_names_out()\n",
    ")"
   ]
  },
  {
   "cell_type": "code",
   "execution_count": 441,
   "metadata": {},
   "outputs": [],
   "source": [
    "# accedo al codificador OrdinalEncoder\n",
    "ordinal_encoder = codification_ordinal_variables.named_transformers_['ord']\n",
    "\n",
    "# Imprimir las categorías y su codificación\n",
    "equivalences_ordinal_features_dict = {}\n",
    "for i, feature in enumerate(ordinal_variables.keys()):\n",
    "    equivalences_ordinal_features_dict[feature] = {f\"Categories: {ordinal_encoder.categories_[i]}\": f\"Encoded values: {list(range(len(ordinal_encoder.categories_[i])))}\"}"
   ]
  },
  {
   "cell_type": "markdown",
   "metadata": {},
   "source": [
    "### Escalamiento de datos"
   ]
  },
  {
   "cell_type": "code",
   "execution_count": 412,
   "metadata": {},
   "outputs": [],
   "source": [
    "# Crear el ColumnTransformer con las transformaciones\n",
    "escalation_numerical_variables = ColumnTransformer(\n",
    "    transformers=[\n",
    "        ('num', RobustScaler(), number_columns)\n",
    "    ]\n",
    ")"
   ]
  },
  {
   "cell_type": "code",
   "execution_count": 413,
   "metadata": {},
   "outputs": [],
   "source": [
    "# Escalo las variables numéricas\n",
    "scaled_numerical_variables = escalation_numerical_variables.fit_transform(df_processed[number_columns].copy())\n",
    "df_scaled_numerical_variables = pd.DataFrame(scaled_numerical_variables, columns=escalation_numerical_variables.get_feature_names_out(input_features=number_columns))"
   ]
  },
  {
   "cell_type": "code",
   "execution_count": 415,
   "metadata": {},
   "outputs": [],
   "source": [
    "# Concatenar los DataFrames\n",
    "df_encoded_scaled = pd.concat([df_scaled_numerical_variables, df_ordinal_encoded_variables, df_nominal_encoded_variables], axis=1)"
   ]
  },
  {
   "cell_type": "markdown",
   "metadata": {},
   "source": [
    "## Resultado final"
   ]
  },
  {
   "cell_type": "markdown",
   "metadata": {},
   "source": [
    "### DataFrame para machine learning y correlaciones en EDA"
   ]
  },
  {
   "cell_type": "markdown",
   "metadata": {},
   "source": [
    "### Tabla de mapeo de características codificadas y escaladas\n",
    "\n",
    "| **Columna transformada**    | **Columna codificada / escalada** | **Codificación / Escalamiento** | **Equivalencia / Rangos**                                                                                                                                                                                                                                                                                                                                                                          |\n",
    "|-----------------------------|-----------------------------------|---------------------------------|-----------------------------------------------------------------------------------------------------------------------------------------------------------------------------------------------------------------------------------------------------------------------------------------------------------------------------------------------------------------------------------------------|\n",
    "| **Customer ID**              | -                                 | -                               | -                                                                                                                                                                                                                                                                                                                                                                                             |\n",
    "| **Age**                      | `num__age`                        | `RobustScaler`                  | `[-1, 1]`                                                                                                                                                                                                                                                                                                                                                                                       |\n",
    "| **Gender**                   | `nom__gender`                     | `LabelEncoder`                  | `'female': 0, 'male': 1`                                                                                                                                                                                                                                                                                                                                                                        |\n",
    "| **Item Purchased**           | `nom__item_purchased`             | `LabelEncoder`                  | `'backpack': 0, 'belt': 1, 'blouse': 2, 'boots': 3, 'coat': 4, 'dress': 5, 'gloves': 6, 'handbag': 7, 'hat': 8, 'hoodie': 9, 'jacket': 10, 'jeans': 11, 'jewelry': 12, 'pants': 13, 'sandals': 14, 'scarf': 15, 'shirt': 16, 'shoes': 17, 'shorts': 18, 'skirt': 19, 'sneakers': 20, 'socks': 21, 'sunglasses': 22, 'sweater': 23, 't-shirt': 24`             |\n",
    "| **Category Item**            | `nom__category_item`              | `LabelEncoder`                  | `'accessories': 0, 'clothing': 1, 'footwear': 2, 'outerwear': 3`                                                                                                                                                                                                                                                                                                                                 |\n",
    "| **Purchase Amount (USD)**    | `num__purchase_amount_usd`        | `RobustScaler`                  | `[-1, 1]`                                                                                                                                                                                                                                                                                                                                                                                       |\n",
    "| **Location**                 | `nom__location`                   | `LabelEncoder`                  | `'alabama': 0, 'alaska': 1, 'arizona': 2, 'arkansas': 3, 'california': 4, 'colorado': 5, 'connecticut': 6, 'delaware': 7, 'florida': 8, 'georgia': 9, 'hawaii': 10, 'idaho': 11, 'illinois': 12, 'indiana': 13, 'iowa': 14, 'kansas': 15, 'kentucky': 16, 'louisiana': 17, 'maine': 18, 'maryland': 19, 'massachusetts': 20, 'michigan': 21, 'minnesota': 22, 'mississippi': 23, 'missouri': 24, 'montana': 25, 'nebraska': 26, 'nevada': 27, 'new hampshire': 28, 'new jersey': 29, 'new mexico': 30, 'new york': 31, 'north carolina': 32, 'north dakota': 33, 'ohio': 34, 'oklahoma': 35, 'oregon': 36, 'pennsylvania': 37, 'rhode island': 38, 'south carolina': 39, 'south dakota': 40, 'tennessee': 41, 'texas': 42, 'utah': 43, 'vermont': 44, 'virginia': 45, 'washington': 46, 'west virginia': 47, 'wisconsin': 48, 'wyoming': 49` |\n",
    "| **Size**                     | `ord__size`                       | `OrdinalEncoder`                | `'s': 0, 'm': 1, 'l': 2, 'xl': 3`                                                                                                                                                                                                                                                                                                                                                               |\n",
    "| **Color**                    | `nom__color`                      | `LabelEncoder`                  | `'beige': 0, 'black': 1, 'blue': 2, 'brown': 3, 'charcoal': 4, 'cyan': 5, 'gold': 6, 'gray': 7, 'green': 8, 'indigo': 9, 'lavender': 10, 'magenta': 11, 'maroon': 12, 'olive': 13, 'orange': 14, 'peach': 15, 'pink': 16, 'purple': 17, 'red': 18, 'silver': 19, 'teal': 20, 'turquoise': 21, 'violet': 22, 'white': 23, 'yellow': 24`                                         |\n",
    "| **Season**                   | `ord__season`                     | `OrdinalEncoder`                | `'winter': 0, 'spring': 1, 'summer': 2, 'fall': 3`                                                                                                                                                                                                                                                                                                                                             |\n",
    "| **Review Rating**            | `num__review_rating`              | `RobustScaler`                  | -                                                                                                                                                                                                                                                                                                                                                                                             |\n",
    "| **Subscription Status**      | `ord__subscription_status`        | `OrdinalEncoder`                | `'no': 0, 'yes': 1`                                                                                                                                                                                                                                                                                                                                                                            |\n",
    "| **Shipping Type**            | `nom__shipping_type`              | `LabelEncoder`                  | `'2-day shipping': 0, 'express': 1, 'free shipping': 2, 'next day air': 3, 'standard': 4, 'store pickup': 5`                                                                                                                                                                                                                                                                                   |\n",
    "| **Promo Code Used**          | `ord__promo_code_used`            | `OrdinalEncoder`                | `'no': 0, 'yes': 1`                                                                                                                                                                                                                                                                                                                                                                            |\n",
    "| **Previous Purchases**       | `ord__previous_purchases`         | `OrdinalEncoder`                | -                                                                                                                                                                                                                                                                                                                                                                                             |\n",
    "| **Payment Method**           | `nom__payment_method`             | `LabelEncoder`                  | `'bank transfer': 0, 'cash': 1, 'credit card': 2, 'debit card': 3, 'paypal': 4, 'venmo': 5`                                                                                                                                                                                                                                                                                                   |\n",
    "| **Frequency of Purchases**   | `ord__frequency_of_purchases`     | `OrdinalEncoder`                | `'weekly': 0, 'bi-weekly': 1, 'monthly': 2, 'quarterly': 3, 'annually': 4`                                                                                                                                                                                                                                                                                                                     |\n",
    "| **Vital Stages**             | `ord__vital_stages`               | `OrdinalEncoder`                | `'adolescente': 0, 'adulto': 1, 'tercera_edad': 2`                                                                                                                                                                                                                                                                                                                                             |"
   ]
  },
  {
   "cell_type": "code",
   "execution_count": 416,
   "metadata": {},
   "outputs": [
    {
     "data": {
      "text/html": [
       "<div>\n",
       "<style scoped>\n",
       "    .dataframe tbody tr th:only-of-type {\n",
       "        vertical-align: middle;\n",
       "    }\n",
       "\n",
       "    .dataframe tbody tr th {\n",
       "        vertical-align: top;\n",
       "    }\n",
       "\n",
       "    .dataframe thead th {\n",
       "        text-align: right;\n",
       "    }\n",
       "</style>\n",
       "<table border=\"1\" class=\"dataframe\">\n",
       "  <thead>\n",
       "    <tr style=\"text-align: right;\">\n",
       "      <th></th>\n",
       "      <th>num__customer_id</th>\n",
       "      <th>num__age</th>\n",
       "      <th>num__purchase_amount_usd</th>\n",
       "      <th>num__review_rating</th>\n",
       "      <th>num__previous_purchases</th>\n",
       "      <th>ord__size</th>\n",
       "      <th>ord__subscription_status</th>\n",
       "      <th>ord__promo_code_used</th>\n",
       "      <th>ord__frequency_of_purchases</th>\n",
       "      <th>ord__vital_stages</th>\n",
       "      <th>ord__season</th>\n",
       "      <th>nom__gender</th>\n",
       "      <th>nom__item_purchased</th>\n",
       "      <th>nom__category</th>\n",
       "      <th>nom__location</th>\n",
       "      <th>nom__color</th>\n",
       "      <th>nom__shipping_type</th>\n",
       "      <th>nom__payment_method</th>\n",
       "    </tr>\n",
       "  </thead>\n",
       "  <tbody>\n",
       "    <tr>\n",
       "      <th>2990</th>\n",
       "      <td>0.533727</td>\n",
       "      <td>0.961538</td>\n",
       "      <td>0.738095</td>\n",
       "      <td>0.384615</td>\n",
       "      <td>-0.04</td>\n",
       "      <td>1.0</td>\n",
       "      <td>0.0</td>\n",
       "      <td>0.0</td>\n",
       "      <td>2.0</td>\n",
       "      <td>2.0</td>\n",
       "      <td>3.0</td>\n",
       "      <td>0</td>\n",
       "      <td>16</td>\n",
       "      <td>1</td>\n",
       "      <td>12</td>\n",
       "      <td>20</td>\n",
       "      <td>2</td>\n",
       "      <td>5</td>\n",
       "    </tr>\n",
       "    <tr>\n",
       "      <th>1314</th>\n",
       "      <td>-0.325981</td>\n",
       "      <td>-0.076923</td>\n",
       "      <td>0.166667</td>\n",
       "      <td>-0.230769</td>\n",
       "      <td>0.96</td>\n",
       "      <td>0.0</td>\n",
       "      <td>0.0</td>\n",
       "      <td>1.0</td>\n",
       "      <td>4.0</td>\n",
       "      <td>1.0</td>\n",
       "      <td>2.0</td>\n",
       "      <td>1</td>\n",
       "      <td>3</td>\n",
       "      <td>2</td>\n",
       "      <td>24</td>\n",
       "      <td>11</td>\n",
       "      <td>2</td>\n",
       "      <td>3</td>\n",
       "    </tr>\n",
       "    <tr>\n",
       "      <th>3265</th>\n",
       "      <td>0.674788</td>\n",
       "      <td>-0.153846</td>\n",
       "      <td>0.952381</td>\n",
       "      <td>-0.384615</td>\n",
       "      <td>0.12</td>\n",
       "      <td>1.0</td>\n",
       "      <td>0.0</td>\n",
       "      <td>0.0</td>\n",
       "      <td>1.0</td>\n",
       "      <td>1.0</td>\n",
       "      <td>0.0</td>\n",
       "      <td>0</td>\n",
       "      <td>22</td>\n",
       "      <td>0</td>\n",
       "      <td>0</td>\n",
       "      <td>23</td>\n",
       "      <td>1</td>\n",
       "      <td>2</td>\n",
       "    </tr>\n",
       "    <tr>\n",
       "      <th>3399</th>\n",
       "      <td>0.743524</td>\n",
       "      <td>-0.153846</td>\n",
       "      <td>-0.119048</td>\n",
       "      <td>-0.307692</td>\n",
       "      <td>0.44</td>\n",
       "      <td>3.0</td>\n",
       "      <td>0.0</td>\n",
       "      <td>0.0</td>\n",
       "      <td>4.0</td>\n",
       "      <td>1.0</td>\n",
       "      <td>0.0</td>\n",
       "      <td>0</td>\n",
       "      <td>13</td>\n",
       "      <td>1</td>\n",
       "      <td>25</td>\n",
       "      <td>24</td>\n",
       "      <td>4</td>\n",
       "      <td>3</td>\n",
       "    </tr>\n",
       "  </tbody>\n",
       "</table>\n",
       "</div>"
      ],
      "text/plain": [
       "      num__customer_id  num__age  num__purchase_amount_usd  \\\n",
       "2990          0.533727  0.961538                  0.738095   \n",
       "1314         -0.325981 -0.076923                  0.166667   \n",
       "3265          0.674788 -0.153846                  0.952381   \n",
       "3399          0.743524 -0.153846                 -0.119048   \n",
       "\n",
       "      num__review_rating  num__previous_purchases  ord__size  \\\n",
       "2990            0.384615                    -0.04        1.0   \n",
       "1314           -0.230769                     0.96        0.0   \n",
       "3265           -0.384615                     0.12        1.0   \n",
       "3399           -0.307692                     0.44        3.0   \n",
       "\n",
       "      ord__subscription_status  ord__promo_code_used  \\\n",
       "2990                       0.0                   0.0   \n",
       "1314                       0.0                   1.0   \n",
       "3265                       0.0                   0.0   \n",
       "3399                       0.0                   0.0   \n",
       "\n",
       "      ord__frequency_of_purchases  ord__vital_stages  ord__season  \\\n",
       "2990                          2.0                2.0          3.0   \n",
       "1314                          4.0                1.0          2.0   \n",
       "3265                          1.0                1.0          0.0   \n",
       "3399                          4.0                1.0          0.0   \n",
       "\n",
       "      nom__gender  nom__item_purchased  nom__category  nom__location  \\\n",
       "2990            0                   16              1             12   \n",
       "1314            1                    3              2             24   \n",
       "3265            0                   22              0              0   \n",
       "3399            0                   13              1             25   \n",
       "\n",
       "      nom__color  nom__shipping_type  nom__payment_method  \n",
       "2990          20                   2                    5  \n",
       "1314          11                   2                    3  \n",
       "3265          23                   1                    2  \n",
       "3399          24                   4                    3  "
      ]
     },
     "execution_count": 416,
     "metadata": {},
     "output_type": "execute_result"
    }
   ],
   "source": [
    "df_encoded_scaled.sample(4, random_state=3)"
   ]
  },
  {
   "cell_type": "code",
   "execution_count": 417,
   "metadata": {},
   "outputs": [],
   "source": [
    "path_encoded_scaled_dataset = '../data/2_silver/df_encoded_scaled.csv'\n",
    "df_encoded_scaled.to_csv(path_encoded_scaled_dataset, index=False)"
   ]
  },
  {
   "cell_type": "markdown",
   "metadata": {},
   "source": [
    "### DataFrame para bi"
   ]
  },
  {
   "cell_type": "markdown",
   "metadata": {},
   "source": [
    "### Tabla de mapeo de características transformadas (sin codificacion ni escalamiento)\n",
    "\n",
    "| **Columna Original**           | **Columna Transformada**     | **Tipo de Dato Transformado** | **Variables Transformadas** |\n",
    "|-------------------------------|------------------------------|-------------------------------|------------------------------|\n",
    "| **Customer ID**               | `customer_id`                | `object`                      |                              |\n",
    "| **Age**                       | `age`                        | `int64`                       |                              |\n",
    "| **Gender**                    | `gender`                     | `category`                    | 'male', 'female'             |\n",
    "| **Item Purchased**            | `item_purchased`             | `category`                    | 'blouse', 'sweater', 'jeans', 'sandals', 'sneakers', ..., 'socks', 'backpack', 'belt', 'boots', 'gloves' |\n",
    "| **Category**                  | `category_item`              | `category`                    | 'clothing', 'footwear', 'outerwear', 'accessories' |\n",
    "| **Purchase Amount (USD)**     | `purchase_amount_usd`        | `int64`                       |                              |\n",
    "| **Location**                  | `location`                   | `category`                    | 'kentucky', 'maine', 'massachusetts', 'rhode island', 'oregon', ..., 'south dakota', 'minnesota', 'washington', 'wisconsin', 'michigan' |\n",
    "| **Size**                      | `size`                       | `category`                    | 'l', 's', 'm', 'xl'          |\n",
    "| **Color**                     | `color`                      | `category`                    | 'gray', 'maroon', 'turquoise', 'white', 'charcoal', ..., 'orange', 'indigo', 'yellow', 'magenta', 'blue' |\n",
    "| **Season**                    | `season`                     | `category`                    | 'winter', 'spring', 'summer', 'fall' |\n",
    "| **Review Rating**             | `review_rating`              | `float64`                     |                              |\n",
    "| **Subscription Status**       | `subscription_status`        | `category`                    | 'yes', 'no'                  |\n",
    "| **Shipping Type**             | `shipping_type`              | `category`                    | 'express', 'free shipping', 'next day air', 'standard', '2-day shipping', 'store pickup' |\n",
    "| **Promo Code Used**           | `promo_code_used`            | `category`                    | 'yes', 'no'                  |\n",
    "| **Previous Purchases**        | `previous_purchases`         | `int64`                       |                              |\n",
    "| **Payment Method**            | `payment_method`             | `category`                    | 'venmo', 'cash', 'credit card', 'paypal', 'bank transfer', 'debit card' |\n",
    "| **Frequency of Purchases**    | `frequency_of_purchases`     | `category`                    | 'bi-weekly', 'weekly', 'annually', 'quarterly', 'monthly' |\n",
    "| -                             | `vital_stages`               | `category`                    | 'adulto', 'adolescente', 'tercera_edad' |"
   ]
  },
  {
   "cell_type": "code",
   "execution_count": 418,
   "metadata": {},
   "outputs": [
    {
     "data": {
      "text/html": [
       "<div>\n",
       "<style scoped>\n",
       "    .dataframe tbody tr th:only-of-type {\n",
       "        vertical-align: middle;\n",
       "    }\n",
       "\n",
       "    .dataframe tbody tr th {\n",
       "        vertical-align: top;\n",
       "    }\n",
       "\n",
       "    .dataframe thead th {\n",
       "        text-align: right;\n",
       "    }\n",
       "</style>\n",
       "<table border=\"1\" class=\"dataframe\">\n",
       "  <thead>\n",
       "    <tr style=\"text-align: right;\">\n",
       "      <th></th>\n",
       "      <th>customer_id</th>\n",
       "      <th>age</th>\n",
       "      <th>gender</th>\n",
       "      <th>item_purchased</th>\n",
       "      <th>category</th>\n",
       "      <th>purchase_amount_usd</th>\n",
       "      <th>location</th>\n",
       "      <th>size</th>\n",
       "      <th>color</th>\n",
       "      <th>season</th>\n",
       "      <th>review_rating</th>\n",
       "      <th>subscription_status</th>\n",
       "      <th>shipping_type</th>\n",
       "      <th>promo_code_used</th>\n",
       "      <th>previous_purchases</th>\n",
       "      <th>payment_method</th>\n",
       "      <th>frequency_of_purchases</th>\n",
       "      <th>vital_stages</th>\n",
       "    </tr>\n",
       "  </thead>\n",
       "  <tbody>\n",
       "    <tr>\n",
       "      <th>2990</th>\n",
       "      <td>2991</td>\n",
       "      <td>69</td>\n",
       "      <td>female</td>\n",
       "      <td>shirt</td>\n",
       "      <td>clothing</td>\n",
       "      <td>91</td>\n",
       "      <td>illinois</td>\n",
       "      <td>m</td>\n",
       "      <td>teal</td>\n",
       "      <td>fall</td>\n",
       "      <td>4.2</td>\n",
       "      <td>no</td>\n",
       "      <td>free shipping</td>\n",
       "      <td>no</td>\n",
       "      <td>24</td>\n",
       "      <td>venmo</td>\n",
       "      <td>monthly</td>\n",
       "      <td>tercera_edad</td>\n",
       "    </tr>\n",
       "    <tr>\n",
       "      <th>1314</th>\n",
       "      <td>1315</td>\n",
       "      <td>42</td>\n",
       "      <td>male</td>\n",
       "      <td>boots</td>\n",
       "      <td>footwear</td>\n",
       "      <td>67</td>\n",
       "      <td>missouri</td>\n",
       "      <td>s</td>\n",
       "      <td>magenta</td>\n",
       "      <td>summer</td>\n",
       "      <td>3.4</td>\n",
       "      <td>no</td>\n",
       "      <td>free shipping</td>\n",
       "      <td>yes</td>\n",
       "      <td>49</td>\n",
       "      <td>debit card</td>\n",
       "      <td>annually</td>\n",
       "      <td>adulto</td>\n",
       "    </tr>\n",
       "    <tr>\n",
       "      <th>3265</th>\n",
       "      <td>3266</td>\n",
       "      <td>40</td>\n",
       "      <td>female</td>\n",
       "      <td>sunglasses</td>\n",
       "      <td>accessories</td>\n",
       "      <td>100</td>\n",
       "      <td>alabama</td>\n",
       "      <td>m</td>\n",
       "      <td>white</td>\n",
       "      <td>winter</td>\n",
       "      <td>3.2</td>\n",
       "      <td>no</td>\n",
       "      <td>express</td>\n",
       "      <td>no</td>\n",
       "      <td>28</td>\n",
       "      <td>credit card</td>\n",
       "      <td>bi-weekly</td>\n",
       "      <td>adulto</td>\n",
       "    </tr>\n",
       "    <tr>\n",
       "      <th>3399</th>\n",
       "      <td>3400</td>\n",
       "      <td>40</td>\n",
       "      <td>female</td>\n",
       "      <td>pants</td>\n",
       "      <td>clothing</td>\n",
       "      <td>55</td>\n",
       "      <td>montana</td>\n",
       "      <td>xl</td>\n",
       "      <td>yellow</td>\n",
       "      <td>winter</td>\n",
       "      <td>3.3</td>\n",
       "      <td>no</td>\n",
       "      <td>standard</td>\n",
       "      <td>no</td>\n",
       "      <td>36</td>\n",
       "      <td>debit card</td>\n",
       "      <td>annually</td>\n",
       "      <td>adulto</td>\n",
       "    </tr>\n",
       "  </tbody>\n",
       "</table>\n",
       "</div>"
      ],
      "text/plain": [
       "     customer_id  age  gender item_purchased     category  \\\n",
       "2990        2991   69  female          shirt     clothing   \n",
       "1314        1315   42    male          boots     footwear   \n",
       "3265        3266   40  female     sunglasses  accessories   \n",
       "3399        3400   40  female          pants     clothing   \n",
       "\n",
       "      purchase_amount_usd  location size    color  season  review_rating  \\\n",
       "2990                   91  illinois    m     teal    fall            4.2   \n",
       "1314                   67  missouri    s  magenta  summer            3.4   \n",
       "3265                  100   alabama    m    white  winter            3.2   \n",
       "3399                   55   montana   xl   yellow  winter            3.3   \n",
       "\n",
       "     subscription_status  shipping_type promo_code_used  previous_purchases  \\\n",
       "2990                  no  free shipping              no                  24   \n",
       "1314                  no  free shipping             yes                  49   \n",
       "3265                  no        express              no                  28   \n",
       "3399                  no       standard              no                  36   \n",
       "\n",
       "     payment_method frequency_of_purchases  vital_stages  \n",
       "2990          venmo                monthly  tercera_edad  \n",
       "1314     debit card               annually        adulto  \n",
       "3265    credit card              bi-weekly        adulto  \n",
       "3399     debit card               annually        adulto  "
      ]
     },
     "execution_count": 418,
     "metadata": {},
     "output_type": "execute_result"
    }
   ],
   "source": [
    "df_processed.sample(4, random_state=3)"
   ]
  },
  {
   "cell_type": "code",
   "execution_count": 419,
   "metadata": {},
   "outputs": [],
   "source": [
    "# guardo los dataframes procesados y escalados en la carpeta \"silver\"\n",
    "path_processed_dataset = '../data/3_gold/df_processed.csv'\n",
    "df_processed.to_csv(path_processed_dataset, index=False)"
   ]
  }
 ],
 "metadata": {
  "kernelspec": {
   "display_name": "base",
   "language": "python",
   "name": "python3"
  },
  "language_info": {
   "codemirror_mode": {
    "name": "ipython",
    "version": 3
   },
   "file_extension": ".py",
   "mimetype": "text/x-python",
   "name": "python",
   "nbconvert_exporter": "python",
   "pygments_lexer": "ipython3",
   "version": "3.12.4"
  }
 },
 "nbformat": 4,
 "nbformat_minor": 2
}
