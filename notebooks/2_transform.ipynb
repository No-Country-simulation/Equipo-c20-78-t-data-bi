{
 "cells": [
  {
   "cell_type": "markdown",
   "metadata": {},
   "source": [
    "# Preparacion de los datos"
   ]
  },
  {
   "cell_type": "code",
   "execution_count": 235,
   "metadata": {},
   "outputs": [],
   "source": [
    "# Bibliotecas para Manipulación de Datos y Análisis\n",
    "import pandas as pd\n",
    "import numpy as np\n",
    "\n",
    "# Visualización\n",
    "import matplotlib.pyplot as plt\n",
    "import seaborn as sns\n",
    "import missingno as msno\n",
    "\n",
    "# Operaciones del sistema operativo\n",
    "import os\n",
    "\n",
    "# traduccion de texto\n",
    "from googletrans import Translator\n",
    "\n",
    "# Preprocesamiento y Escalado\n",
    "from sklearn.impute import SimpleImputer\n",
    "from sklearn.preprocessing import OrdinalEncoder, LabelEncoder, RobustScaler, StandardScaler\n",
    "from sklearn.compose import ColumnTransformer"
   ]
  },
  {
   "cell_type": "code",
   "execution_count": 236,
   "metadata": {},
   "outputs": [],
   "source": [
    "# Configuro los parámetros iniciales de matplotlib para estandarizar los gráficos\n",
    "params = {\n",
    "    'figure.figsize': (16, 10),  # Establezco el tamaño de cada gráfico\n",
    "    'figure.dpi': 80,  # Configuro la resolución por pulgada\n",
    "    'figure.facecolor': 'white',  # Defino el color de fondo\n",
    "    'figure.edgecolor': 'white',  # Defino el color del borde\n",
    "    'figure.frameon': True,  # Mantengo el borde del gráfico activado\n",
    "    'figure.constrained_layout.use': False,  # Desactivo el diseño restringido para las figuras\n",
    "    'figure.constrained_layout.h_pad': 0.04167,  # Espaciado horizontal en el diseño restringido\n",
    "    'figure.constrained_layout.w_pad': 0.04167,  # Espaciado vertical en el diseño restringido\n",
    "    'axes.labelsize': 12,  # Establezco el tamaño de las etiquetas de los ejes\n",
    "    'axes.titlesize': 14,  # Establezco el tamaño del título\n",
    "    'axes.labelweight': 'normal',  # Configuro el grosor de la fuente de las etiquetas\n",
    "    'xtick.labelsize': 10,  # Defino el tamaño de las etiquetas del eje x\n",
    "    'ytick.labelsize': 10,  # Defino el tamaño de las etiquetas del eje y\n",
    "    'xtick.color': 'black',  # Configuro el color de las etiquetas del eje x\n",
    "    'ytick.color': 'black',  # Configuro el color de las etiquetas del eje y\n",
    "    'axes.spines.top': True,  # Mantengo visible el borde superior del gráfico\n",
    "    'axes.spines.right': True,  # Mantengo visible el borde derecho del gráfico\n",
    "    'legend.frameon': True,  # Mantengo visible el marco de la leyenda\n",
    "    'grid.linestyle': '-',  # Defino el estilo de las líneas de la cuadrícula\n",
    "    'grid.linewidth': 0.8,  # Configuro el grosor de las líneas de la cuadrícula\n",
    "    'grid.color': 'gray',  # Establezco el color de las líneas de la cuadrícula\n",
    "    'legend.fontsize': 10,  # Configuro el tamaño de la fuente de la leyenda\n",
    "    'axes.titleweight': 'normal',  # Establezco el grosor de la fuente del título\n",
    "    'axes.titlecolor': 'black',  # Configuro el color del título\n",
    "    'axes.titlelocation': 'center',  # Coloco el título en el centro del gráfico\n",
    "}\n",
    "\n",
    "# Actualizo los parámetros de Matplotlib con la configuración establecida\n",
    "plt.rcParams.update(params)\n",
    "\n",
    "# Aplico el tema de tableau\n",
    "plt.style.use('tableau-colorblind10')\n",
    "\n",
    "# Activo la visualización de gráficos en línea (dentro de la celda de código)\n",
    "%matplotlib inline"
   ]
  },
  {
   "cell_type": "markdown",
   "metadata": {},
   "source": [
    "### Funcion para renombramiento de columnas"
   ]
  },
  {
   "cell_type": "markdown",
   "metadata": {},
   "source": [
    "**snake_case**"
   ]
  },
  {
   "cell_type": "code",
   "execution_count": 237,
   "metadata": {},
   "outputs": [],
   "source": [
    "def snake_case(column_name):\n",
    "    column_name = column_name.lower()\n",
    "    column_name = column_name.replace(' ', '_')\n",
    "    return column_name"
   ]
  },
  {
   "cell_type": "markdown",
   "metadata": {},
   "source": [
    "**Eliminar signos extraños**"
   ]
  },
  {
   "cell_type": "code",
   "execution_count": 238,
   "metadata": {},
   "outputs": [],
   "source": [
    "def clean_signs(column_name, list_signs):\n",
    "    for sign in list_signs:\n",
    "        column_name = column_name.replace(sign, '')\n",
    "    return column_name"
   ]
  },
  {
   "cell_type": "markdown",
   "metadata": {},
   "source": [
    "**Texto a minusculas**"
   ]
  },
  {
   "cell_type": "code",
   "execution_count": 239,
   "metadata": {},
   "outputs": [],
   "source": [
    "def text_to_lower(column):\n",
    "    column = column.str.lower()\n",
    "    return column"
   ]
  },
  {
   "cell_type": "markdown",
   "metadata": {},
   "source": [
    "Traduccion de texto"
   ]
  },
  {
   "cell_type": "code",
   "execution_count": 240,
   "metadata": {},
   "outputs": [],
   "source": [
    "def translate_unique_values(column, src='en', dest='es'):\n",
    "    unique_values = column.unique()  # Obtener los valores únicos\n",
    "    translations = {}\n",
    "\n",
    "    # Traducir cada valor único\n",
    "    for value in unique_values:\n",
    "        if pd.notnull(value) and isinstance(value, str):\n",
    "            try:\n",
    "                translations[value] = translator.translate(value, src=src, dest=dest).text\n",
    "            except Exception as e:\n",
    "                print(f\"Error al traducir {value}: {e}\")\n",
    "                translations[value] = value  # Mantener el valor original en caso de error\n",
    "        else:\n",
    "            translations[value] = value  # Mantener el valor original si es nulo o no es string\n",
    "\n",
    "    # Reemplazar los valores originales con las traducciones\n",
    "    return column.map(translations)"
   ]
  },
  {
   "cell_type": "markdown",
   "metadata": {},
   "source": [
    "## Lectura de csv"
   ]
  },
  {
   "cell_type": "code",
   "execution_count": 241,
   "metadata": {},
   "outputs": [],
   "source": [
    "df_path = '../data/1_bronze/shopping_behavior_updated.csv'\n",
    "df = pd.read_csv(df_path)"
   ]
  },
  {
   "cell_type": "code",
   "execution_count": 242,
   "metadata": {},
   "outputs": [],
   "source": [
    "# creo una copia del dataframe original que almacenare en un nuevo df de procesamiento\n",
    "df_processed = df.copy()"
   ]
  },
  {
   "cell_type": "code",
   "execution_count": 243,
   "metadata": {},
   "outputs": [
    {
     "data": {
      "text/html": [
       "<div>\n",
       "<style scoped>\n",
       "    .dataframe tbody tr th:only-of-type {\n",
       "        vertical-align: middle;\n",
       "    }\n",
       "\n",
       "    .dataframe tbody tr th {\n",
       "        vertical-align: top;\n",
       "    }\n",
       "\n",
       "    .dataframe thead th {\n",
       "        text-align: right;\n",
       "    }\n",
       "</style>\n",
       "<table border=\"1\" class=\"dataframe\">\n",
       "  <thead>\n",
       "    <tr style=\"text-align: right;\">\n",
       "      <th></th>\n",
       "      <th>Customer ID</th>\n",
       "      <th>Age</th>\n",
       "      <th>Gender</th>\n",
       "      <th>Item Purchased</th>\n",
       "      <th>Category</th>\n",
       "      <th>Purchase Amount (USD)</th>\n",
       "      <th>Location</th>\n",
       "      <th>Size</th>\n",
       "      <th>Color</th>\n",
       "      <th>Season</th>\n",
       "      <th>Review Rating</th>\n",
       "      <th>Subscription Status</th>\n",
       "      <th>Shipping Type</th>\n",
       "      <th>Discount Applied</th>\n",
       "      <th>Promo Code Used</th>\n",
       "      <th>Previous Purchases</th>\n",
       "      <th>Payment Method</th>\n",
       "      <th>Frequency of Purchases</th>\n",
       "    </tr>\n",
       "  </thead>\n",
       "  <tbody>\n",
       "    <tr>\n",
       "      <th>0</th>\n",
       "      <td>1</td>\n",
       "      <td>55</td>\n",
       "      <td>Male</td>\n",
       "      <td>Blouse</td>\n",
       "      <td>Clothing</td>\n",
       "      <td>53</td>\n",
       "      <td>Kentucky</td>\n",
       "      <td>L</td>\n",
       "      <td>Gray</td>\n",
       "      <td>Winter</td>\n",
       "      <td>3.1</td>\n",
       "      <td>Yes</td>\n",
       "      <td>Express</td>\n",
       "      <td>Yes</td>\n",
       "      <td>Yes</td>\n",
       "      <td>14</td>\n",
       "      <td>Venmo</td>\n",
       "      <td>Fortnightly</td>\n",
       "    </tr>\n",
       "    <tr>\n",
       "      <th>1</th>\n",
       "      <td>2</td>\n",
       "      <td>19</td>\n",
       "      <td>Male</td>\n",
       "      <td>Sweater</td>\n",
       "      <td>Clothing</td>\n",
       "      <td>64</td>\n",
       "      <td>Maine</td>\n",
       "      <td>L</td>\n",
       "      <td>Maroon</td>\n",
       "      <td>Winter</td>\n",
       "      <td>3.1</td>\n",
       "      <td>Yes</td>\n",
       "      <td>Express</td>\n",
       "      <td>Yes</td>\n",
       "      <td>Yes</td>\n",
       "      <td>2</td>\n",
       "      <td>Cash</td>\n",
       "      <td>Fortnightly</td>\n",
       "    </tr>\n",
       "    <tr>\n",
       "      <th>2</th>\n",
       "      <td>3</td>\n",
       "      <td>50</td>\n",
       "      <td>Male</td>\n",
       "      <td>Jeans</td>\n",
       "      <td>Clothing</td>\n",
       "      <td>73</td>\n",
       "      <td>Massachusetts</td>\n",
       "      <td>S</td>\n",
       "      <td>Maroon</td>\n",
       "      <td>Spring</td>\n",
       "      <td>3.1</td>\n",
       "      <td>Yes</td>\n",
       "      <td>Free Shipping</td>\n",
       "      <td>Yes</td>\n",
       "      <td>Yes</td>\n",
       "      <td>23</td>\n",
       "      <td>Credit Card</td>\n",
       "      <td>Weekly</td>\n",
       "    </tr>\n",
       "    <tr>\n",
       "      <th>3</th>\n",
       "      <td>4</td>\n",
       "      <td>21</td>\n",
       "      <td>Male</td>\n",
       "      <td>Sandals</td>\n",
       "      <td>Footwear</td>\n",
       "      <td>90</td>\n",
       "      <td>Rhode Island</td>\n",
       "      <td>M</td>\n",
       "      <td>Maroon</td>\n",
       "      <td>Spring</td>\n",
       "      <td>3.5</td>\n",
       "      <td>Yes</td>\n",
       "      <td>Next Day Air</td>\n",
       "      <td>Yes</td>\n",
       "      <td>Yes</td>\n",
       "      <td>49</td>\n",
       "      <td>PayPal</td>\n",
       "      <td>Weekly</td>\n",
       "    </tr>\n",
       "    <tr>\n",
       "      <th>4</th>\n",
       "      <td>5</td>\n",
       "      <td>45</td>\n",
       "      <td>Male</td>\n",
       "      <td>Blouse</td>\n",
       "      <td>Clothing</td>\n",
       "      <td>49</td>\n",
       "      <td>Oregon</td>\n",
       "      <td>M</td>\n",
       "      <td>Turquoise</td>\n",
       "      <td>Spring</td>\n",
       "      <td>2.7</td>\n",
       "      <td>Yes</td>\n",
       "      <td>Free Shipping</td>\n",
       "      <td>Yes</td>\n",
       "      <td>Yes</td>\n",
       "      <td>31</td>\n",
       "      <td>PayPal</td>\n",
       "      <td>Annually</td>\n",
       "    </tr>\n",
       "  </tbody>\n",
       "</table>\n",
       "</div>"
      ],
      "text/plain": [
       "   Customer ID  Age Gender Item Purchased  Category  Purchase Amount (USD)  \\\n",
       "0            1   55   Male         Blouse  Clothing                     53   \n",
       "1            2   19   Male        Sweater  Clothing                     64   \n",
       "2            3   50   Male          Jeans  Clothing                     73   \n",
       "3            4   21   Male        Sandals  Footwear                     90   \n",
       "4            5   45   Male         Blouse  Clothing                     49   \n",
       "\n",
       "        Location Size      Color  Season  Review Rating Subscription Status  \\\n",
       "0       Kentucky    L       Gray  Winter            3.1                 Yes   \n",
       "1          Maine    L     Maroon  Winter            3.1                 Yes   \n",
       "2  Massachusetts    S     Maroon  Spring            3.1                 Yes   \n",
       "3   Rhode Island    M     Maroon  Spring            3.5                 Yes   \n",
       "4         Oregon    M  Turquoise  Spring            2.7                 Yes   \n",
       "\n",
       "   Shipping Type Discount Applied Promo Code Used  Previous Purchases  \\\n",
       "0        Express              Yes             Yes                  14   \n",
       "1        Express              Yes             Yes                   2   \n",
       "2  Free Shipping              Yes             Yes                  23   \n",
       "3   Next Day Air              Yes             Yes                  49   \n",
       "4  Free Shipping              Yes             Yes                  31   \n",
       "\n",
       "  Payment Method Frequency of Purchases  \n",
       "0          Venmo            Fortnightly  \n",
       "1           Cash            Fortnightly  \n",
       "2    Credit Card                 Weekly  \n",
       "3         PayPal                 Weekly  \n",
       "4         PayPal               Annually  "
      ]
     },
     "execution_count": 243,
     "metadata": {},
     "output_type": "execute_result"
    }
   ],
   "source": [
    "df_processed.head()"
   ]
  },
  {
   "cell_type": "markdown",
   "metadata": {},
   "source": [
    "## Limpieza"
   ]
  },
  {
   "cell_type": "markdown",
   "metadata": {},
   "source": [
    "### Valores nulos"
   ]
  },
  {
   "cell_type": "markdown",
   "metadata": {},
   "source": [
    "Deteccion y visualizacion"
   ]
  },
  {
   "cell_type": "code",
   "execution_count": 244,
   "metadata": {},
   "outputs": [],
   "source": [
    "# lista con convenciones de valores nulos en strings\n",
    "\n",
    "common_na_strings = [\"faltante\", \"NA\", \"N A\", \"N/A\", \"#N/A\", \"NA \", \" NA\", \"N /A\", \"N / A\", \" N / A\",\n",
    "                     \"N / A \", \"na\", \"n a\", \"n/a\", \"na \",\" na\", \"n /a\", \"n / a\", \" a / a\", \"n / a \",\n",
    "                     \"NULO\", \"nulo\", \"\", \"?\", \"*\", \".\", \" \", \"  \", \"-\", \"--\", \"---\", \"----\", \n",
    "                     \"MISSING\", \"Missing\", \"missing\", \"NULL\", \"null\", \"Null\", \"none\", \"None\", \"NONE\",\n",
    "                     \"NaN\", \"nan\", \"NAN\", \"UNDEFINED\", \"undefined\", \"Undefined\", \"UNKNOWN\", \"unknown\", \n",
    "                     \"Unknown\", \"NOT AVAILABLE\", \"not available\", \"Not Available\", \"NOT APPLICABLE\", \n",
    "                     \"not applicable\", \"Not Applicable\", \"NOT GIVEN\", \"not given\", \"Not Given\", \n",
    "                     \"NOT RECORDED\", \"not recorded\", \"Not Recorded\", \"EMPTY\", \"empty\", \"Empty\", \n",
    "                     \"BLANK\", \"blank\", \"Blank\", \"NO DATA\", \"no data\", \"No Data\", \"-999\", \"-9999\", \n",
    "                     \"-1\", \"none available\", \"none provided\", \"not provided\", \"unavailable\", \n",
    "                     \"no value\", \"not specified\", \"unlisted\", \"no entry\"]"
   ]
  },
  {
   "cell_type": "code",
   "execution_count": 245,
   "metadata": {},
   "outputs": [],
   "source": [
    "# remplazo las posibles convenciones de valores nulos dentro del dataframe, por valores nulos np.nan detectados por numpy\n",
    "df_processed = df_processed.replace(\n",
    "    to_replace=common_na_strings,\n",
    "    value=np.nan\n",
    ")"
   ]
  },
  {
   "cell_type": "code",
   "execution_count": 246,
   "metadata": {},
   "outputs": [
    {
     "data": {
      "image/png": "[encoded data removed]",
      "text/plain": [
       "<Figure size 2000x800 with 3 Axes>"
      ]
     },
     "metadata": {},
     "output_type": "display_data"
    }
   ],
   "source": [
    "msno.bar(df_processed)\n",
    "plt.show()"
   ]
  },
  {
   "cell_type": "code",
   "execution_count": 247,
   "metadata": {},
   "outputs": [
    {
     "data": {
      "image/png": "[encoded data removed]",
      "text/plain": [
       "<Figure size 2000x800 with 2 Axes>"
      ]
     },
     "metadata": {},
     "output_type": "display_data"
    }
   ],
   "source": [
    "msno.matrix(df_processed)\n",
    "plt.show()"
   ]
  },
  {
   "cell_type": "code",
   "execution_count": 248,
   "metadata": {},
   "outputs": [
    {
     "data": {
      "text/plain": [
       "0"
      ]
     },
     "execution_count": 248,
     "metadata": {},
     "output_type": "execute_result"
    }
   ],
   "source": [
    "df_processed.isnull().sum().sum()"
   ]
  },
  {
   "cell_type": "markdown",
   "metadata": {},
   "source": [
    "### Obvervacion de esta sub-etapa:\n",
    "\n",
    "- Agregar aqui -"
   ]
  },
  {
   "cell_type": "markdown",
   "metadata": {},
   "source": [
    "## Ingenieria de caracteristicas"
   ]
  },
  {
   "cell_type": "code",
   "execution_count": 249,
   "metadata": {},
   "outputs": [
    {
     "data": {
      "text/html": [
       "<div>\n",
       "<style scoped>\n",
       "    .dataframe tbody tr th:only-of-type {\n",
       "        vertical-align: middle;\n",
       "    }\n",
       "\n",
       "    .dataframe tbody tr th {\n",
       "        vertical-align: top;\n",
       "    }\n",
       "\n",
       "    .dataframe thead th {\n",
       "        text-align: right;\n",
       "    }\n",
       "</style>\n",
       "<table border=\"1\" class=\"dataframe\">\n",
       "  <thead>\n",
       "    <tr style=\"text-align: right;\">\n",
       "      <th></th>\n",
       "      <th>Customer ID</th>\n",
       "      <th>Age</th>\n",
       "      <th>Gender</th>\n",
       "      <th>Item Purchased</th>\n",
       "      <th>Category</th>\n",
       "      <th>Purchase Amount (USD)</th>\n",
       "      <th>Location</th>\n",
       "      <th>Size</th>\n",
       "      <th>Color</th>\n",
       "      <th>Season</th>\n",
       "      <th>Review Rating</th>\n",
       "      <th>Subscription Status</th>\n",
       "      <th>Shipping Type</th>\n",
       "      <th>Discount Applied</th>\n",
       "      <th>Promo Code Used</th>\n",
       "      <th>Previous Purchases</th>\n",
       "      <th>Payment Method</th>\n",
       "      <th>Frequency of Purchases</th>\n",
       "    </tr>\n",
       "  </thead>\n",
       "  <tbody>\n",
       "    <tr>\n",
       "      <th>2913</th>\n",
       "      <td>2914</td>\n",
       "      <td>43</td>\n",
       "      <td>Female</td>\n",
       "      <td>Coat</td>\n",
       "      <td>Outerwear</td>\n",
       "      <td>83</td>\n",
       "      <td>Wyoming</td>\n",
       "      <td>L</td>\n",
       "      <td>Cyan</td>\n",
       "      <td>Winter</td>\n",
       "      <td>3.5</td>\n",
       "      <td>No</td>\n",
       "      <td>Express</td>\n",
       "      <td>No</td>\n",
       "      <td>No</td>\n",
       "      <td>12</td>\n",
       "      <td>Cash</td>\n",
       "      <td>Every 3 Months</td>\n",
       "    </tr>\n",
       "    <tr>\n",
       "      <th>594</th>\n",
       "      <td>595</td>\n",
       "      <td>35</td>\n",
       "      <td>Male</td>\n",
       "      <td>Hoodie</td>\n",
       "      <td>Clothing</td>\n",
       "      <td>83</td>\n",
       "      <td>Oklahoma</td>\n",
       "      <td>S</td>\n",
       "      <td>Brown</td>\n",
       "      <td>Winter</td>\n",
       "      <td>2.5</td>\n",
       "      <td>Yes</td>\n",
       "      <td>Next Day Air</td>\n",
       "      <td>Yes</td>\n",
       "      <td>Yes</td>\n",
       "      <td>6</td>\n",
       "      <td>Debit Card</td>\n",
       "      <td>Monthly</td>\n",
       "    </tr>\n",
       "    <tr>\n",
       "      <th>2036</th>\n",
       "      <td>2037</td>\n",
       "      <td>37</td>\n",
       "      <td>Male</td>\n",
       "      <td>Blouse</td>\n",
       "      <td>Clothing</td>\n",
       "      <td>63</td>\n",
       "      <td>Minnesota</td>\n",
       "      <td>S</td>\n",
       "      <td>Lavender</td>\n",
       "      <td>Winter</td>\n",
       "      <td>3.1</td>\n",
       "      <td>No</td>\n",
       "      <td>Next Day Air</td>\n",
       "      <td>No</td>\n",
       "      <td>No</td>\n",
       "      <td>46</td>\n",
       "      <td>Cash</td>\n",
       "      <td>Weekly</td>\n",
       "    </tr>\n",
       "    <tr>\n",
       "      <th>724</th>\n",
       "      <td>725</td>\n",
       "      <td>37</td>\n",
       "      <td>Male</td>\n",
       "      <td>T-shirt</td>\n",
       "      <td>Clothing</td>\n",
       "      <td>79</td>\n",
       "      <td>New Hampshire</td>\n",
       "      <td>XL</td>\n",
       "      <td>Green</td>\n",
       "      <td>Fall</td>\n",
       "      <td>4.7</td>\n",
       "      <td>Yes</td>\n",
       "      <td>Store Pickup</td>\n",
       "      <td>Yes</td>\n",
       "      <td>Yes</td>\n",
       "      <td>36</td>\n",
       "      <td>Venmo</td>\n",
       "      <td>Every 3 Months</td>\n",
       "    </tr>\n",
       "  </tbody>\n",
       "</table>\n",
       "</div>"
      ],
      "text/plain": [
       "      Customer ID  Age  Gender Item Purchased   Category  \\\n",
       "2913         2914   43  Female           Coat  Outerwear   \n",
       "594           595   35    Male         Hoodie   Clothing   \n",
       "2036         2037   37    Male         Blouse   Clothing   \n",
       "724           725   37    Male        T-shirt   Clothing   \n",
       "\n",
       "      Purchase Amount (USD)       Location Size     Color  Season  \\\n",
       "2913                     83        Wyoming    L      Cyan  Winter   \n",
       "594                      83       Oklahoma    S     Brown  Winter   \n",
       "2036                     63      Minnesota    S  Lavender  Winter   \n",
       "724                      79  New Hampshire   XL     Green    Fall   \n",
       "\n",
       "      Review Rating Subscription Status Shipping Type Discount Applied  \\\n",
       "2913            3.5                  No       Express               No   \n",
       "594             2.5                 Yes  Next Day Air              Yes   \n",
       "2036            3.1                  No  Next Day Air               No   \n",
       "724             4.7                 Yes  Store Pickup              Yes   \n",
       "\n",
       "     Promo Code Used  Previous Purchases Payment Method Frequency of Purchases  \n",
       "2913              No                  12           Cash         Every 3 Months  \n",
       "594              Yes                   6     Debit Card                Monthly  \n",
       "2036              No                  46           Cash                 Weekly  \n",
       "724              Yes                  36          Venmo         Every 3 Months  "
      ]
     },
     "execution_count": 249,
     "metadata": {},
     "output_type": "execute_result"
    }
   ],
   "source": [
    "df_processed.sample(4)"
   ]
  },
  {
   "cell_type": "code",
   "execution_count": 250,
   "metadata": {},
   "outputs": [
    {
     "data": {
      "text/plain": [
       "Customer ID                 int64\n",
       "Age                         int64\n",
       "Gender                     object\n",
       "Item Purchased             object\n",
       "Category                   object\n",
       "Purchase Amount (USD)       int64\n",
       "Location                   object\n",
       "Size                       object\n",
       "Color                      object\n",
       "Season                     object\n",
       "Review Rating             float64\n",
       "Subscription Status        object\n",
       "Shipping Type              object\n",
       "Discount Applied           object\n",
       "Promo Code Used            object\n",
       "Previous Purchases          int64\n",
       "Payment Method             object\n",
       "Frequency of Purchases     object\n",
       "dtype: object"
      ]
     },
     "execution_count": 250,
     "metadata": {},
     "output_type": "execute_result"
    }
   ],
   "source": [
    "df_processed.dtypes"
   ]
  },
  {
   "cell_type": "markdown",
   "metadata": {},
   "source": [
    "### Seleccion manual de caracteristicas"
   ]
  },
  {
   "cell_type": "code",
   "execution_count": 251,
   "metadata": {},
   "outputs": [],
   "source": [
    "df_processed.drop(columns='Discount Applied', inplace=True)"
   ]
  },
  {
   "cell_type": "markdown",
   "metadata": {},
   "source": [
    "### Nombres de columnas"
   ]
  },
  {
   "cell_type": "code",
   "execution_count": 284,
   "metadata": {},
   "outputs": [],
   "source": [
    "df_processed.rename(columns={'category':'category_item'}, inplace=True)"
   ]
  },
  {
   "cell_type": "markdown",
   "metadata": {},
   "source": [
    "#### Estandarizacion y re-nombramiento"
   ]
  },
  {
   "cell_type": "code",
   "execution_count": 253,
   "metadata": {},
   "outputs": [],
   "source": [
    "list_signs = ['(', ')']\n",
    "columns = df_processed.columns"
   ]
  },
  {
   "cell_type": "code",
   "execution_count": 254,
   "metadata": {},
   "outputs": [],
   "source": [
    "columns = list(map(snake_case, columns))\n",
    "columns = list(map(lambda col: clean_signs(column_name=col, list_signs=list_signs), columns))"
   ]
  },
  {
   "cell_type": "code",
   "execution_count": 255,
   "metadata": {},
   "outputs": [],
   "source": [
    "df_processed.columns = columns"
   ]
  },
  {
   "cell_type": "markdown",
   "metadata": {},
   "source": [
    "### Valores tipo texto"
   ]
  },
  {
   "cell_type": "code",
   "execution_count": 256,
   "metadata": {},
   "outputs": [],
   "source": [
    "df_processed[df_processed.select_dtypes(exclude='number').columns] = df_processed[df_processed.select_dtypes(exclude='number').columns].apply(text_to_lower)"
   ]
  },
  {
   "cell_type": "markdown",
   "metadata": {},
   "source": [
    "Separacion de tipos de columnas"
   ]
  },
  {
   "cell_type": "code",
   "execution_count": 257,
   "metadata": {},
   "outputs": [],
   "source": [
    "no_numbers_columns = df_processed.select_dtypes(exclude='number').columns \n",
    "number_columns = df_processed.select_dtypes(include='number').columns"
   ]
  },
  {
   "cell_type": "markdown",
   "metadata": {},
   "source": [
    "Traduccion (aplicara en caso de una futura version)"
   ]
  },
  {
   "cell_type": "code",
   "execution_count": 258,
   "metadata": {},
   "outputs": [
    {
     "name": "stdout",
     "output_type": "stream",
     "text": [
      "Error al traducir male: 'NoneType' object has no attribute 'group'\n",
      "Error al traducir female: 'NoneType' object has no attribute 'group'\n",
      "Error al traducir blouse: 'NoneType' object has no attribute 'group'\n",
      "Error al traducir sweater: 'NoneType' object has no attribute 'group'\n",
      "Error al traducir jeans: 'NoneType' object has no attribute 'group'\n",
      "Error al traducir sandals: 'NoneType' object has no attribute 'group'\n",
      "Error al traducir sneakers: 'NoneType' object has no attribute 'group'\n",
      "Error al traducir shirt: 'NoneType' object has no attribute 'group'\n",
      "Error al traducir shorts: 'NoneType' object has no attribute 'group'\n",
      "Error al traducir coat: 'NoneType' object has no attribute 'group'\n",
      "Error al traducir handbag: 'NoneType' object has no attribute 'group'\n",
      "Error al traducir shoes: 'NoneType' object has no attribute 'group'\n",
      "Error al traducir dress: 'NoneType' object has no attribute 'group'\n",
      "Error al traducir skirt: 'NoneType' object has no attribute 'group'\n",
      "Error al traducir sunglasses: 'NoneType' object has no attribute 'group'\n",
      "Error al traducir pants: 'NoneType' object has no attribute 'group'\n",
      "Error al traducir jacket: 'NoneType' object has no attribute 'group'\n",
      "Error al traducir hoodie: 'NoneType' object has no attribute 'group'\n",
      "Error al traducir jewelry: 'NoneType' object has no attribute 'group'\n",
      "Error al traducir t-shirt: 'NoneType' object has no attribute 'group'\n",
      "Error al traducir scarf: 'NoneType' object has no attribute 'group'\n",
      "Error al traducir hat: 'NoneType' object has no attribute 'group'\n",
      "Error al traducir socks: 'NoneType' object has no attribute 'group'\n",
      "Error al traducir backpack: 'NoneType' object has no attribute 'group'\n",
      "Error al traducir belt: 'NoneType' object has no attribute 'group'\n",
      "Error al traducir boots: 'NoneType' object has no attribute 'group'\n",
      "Error al traducir gloves: 'NoneType' object has no attribute 'group'\n",
      "Error al traducir clothing: 'NoneType' object has no attribute 'group'\n",
      "Error al traducir footwear: 'NoneType' object has no attribute 'group'\n",
      "Error al traducir outerwear: 'NoneType' object has no attribute 'group'\n",
      "Error al traducir accessories: 'NoneType' object has no attribute 'group'\n",
      "Error al traducir kentucky: 'NoneType' object has no attribute 'group'\n",
      "Error al traducir maine: 'NoneType' object has no attribute 'group'\n",
      "Error al traducir massachusetts: 'NoneType' object has no attribute 'group'\n",
      "Error al traducir rhode island: 'NoneType' object has no attribute 'group'\n",
      "Error al traducir oregon: 'NoneType' object has no attribute 'group'\n",
      "Error al traducir wyoming: 'NoneType' object has no attribute 'group'\n",
      "Error al traducir montana: 'NoneType' object has no attribute 'group'\n",
      "Error al traducir louisiana: 'NoneType' object has no attribute 'group'\n",
      "Error al traducir west virginia: 'NoneType' object has no attribute 'group'\n",
      "Error al traducir missouri: 'NoneType' object has no attribute 'group'\n",
      "Error al traducir arkansas: 'NoneType' object has no attribute 'group'\n",
      "Error al traducir hawaii: 'NoneType' object has no attribute 'group'\n",
      "Error al traducir delaware: 'NoneType' object has no attribute 'group'\n",
      "Error al traducir new hampshire: 'NoneType' object has no attribute 'group'\n",
      "Error al traducir new york: 'NoneType' object has no attribute 'group'\n",
      "Error al traducir alabama: 'NoneType' object has no attribute 'group'\n",
      "Error al traducir mississippi: 'NoneType' object has no attribute 'group'\n",
      "Error al traducir north carolina: 'NoneType' object has no attribute 'group'\n",
      "Error al traducir california: 'NoneType' object has no attribute 'group'\n",
      "Error al traducir oklahoma: 'NoneType' object has no attribute 'group'\n",
      "Error al traducir florida: 'NoneType' object has no attribute 'group'\n",
      "Error al traducir texas: 'NoneType' object has no attribute 'group'\n",
      "Error al traducir nevada: 'NoneType' object has no attribute 'group'\n",
      "Error al traducir kansas: 'NoneType' object has no attribute 'group'\n",
      "Error al traducir colorado: 'NoneType' object has no attribute 'group'\n",
      "Error al traducir north dakota: 'NoneType' object has no attribute 'group'\n",
      "Error al traducir illinois: 'NoneType' object has no attribute 'group'\n",
      "Error al traducir indiana: 'NoneType' object has no attribute 'group'\n",
      "Error al traducir arizona: 'NoneType' object has no attribute 'group'\n",
      "Error al traducir alaska: 'NoneType' object has no attribute 'group'\n",
      "Error al traducir tennessee: 'NoneType' object has no attribute 'group'\n",
      "Error al traducir ohio: 'NoneType' object has no attribute 'group'\n",
      "Error al traducir new jersey: 'NoneType' object has no attribute 'group'\n",
      "Error al traducir maryland: 'NoneType' object has no attribute 'group'\n",
      "Error al traducir vermont: 'NoneType' object has no attribute 'group'\n",
      "Error al traducir new mexico: 'NoneType' object has no attribute 'group'\n",
      "Error al traducir south carolina: 'NoneType' object has no attribute 'group'\n",
      "Error al traducir idaho: 'NoneType' object has no attribute 'group'\n",
      "Error al traducir pennsylvania: 'NoneType' object has no attribute 'group'\n",
      "Error al traducir connecticut: 'NoneType' object has no attribute 'group'\n",
      "Error al traducir utah: 'NoneType' object has no attribute 'group'\n",
      "Error al traducir virginia: 'NoneType' object has no attribute 'group'\n",
      "Error al traducir georgia: 'NoneType' object has no attribute 'group'\n",
      "Error al traducir nebraska: 'NoneType' object has no attribute 'group'\n",
      "Error al traducir iowa: 'NoneType' object has no attribute 'group'\n",
      "Error al traducir south dakota: 'NoneType' object has no attribute 'group'\n",
      "Error al traducir minnesota: 'NoneType' object has no attribute 'group'\n",
      "Error al traducir washington: 'NoneType' object has no attribute 'group'\n",
      "Error al traducir wisconsin: 'NoneType' object has no attribute 'group'\n",
      "Error al traducir michigan: 'NoneType' object has no attribute 'group'\n",
      "Error al traducir l: 'NoneType' object has no attribute 'group'\n",
      "Error al traducir s: 'NoneType' object has no attribute 'group'\n",
      "Error al traducir m: 'NoneType' object has no attribute 'group'\n",
      "Error al traducir xl: 'NoneType' object has no attribute 'group'\n",
      "Error al traducir gray: 'NoneType' object has no attribute 'group'\n",
      "Error al traducir maroon: 'NoneType' object has no attribute 'group'\n",
      "Error al traducir turquoise: 'NoneType' object has no attribute 'group'\n",
      "Error al traducir white: 'NoneType' object has no attribute 'group'\n",
      "Error al traducir charcoal: 'NoneType' object has no attribute 'group'\n",
      "Error al traducir silver: 'NoneType' object has no attribute 'group'\n",
      "Error al traducir pink: 'NoneType' object has no attribute 'group'\n",
      "Error al traducir purple: 'NoneType' object has no attribute 'group'\n",
      "Error al traducir olive: 'NoneType' object has no attribute 'group'\n",
      "Error al traducir gold: 'NoneType' object has no attribute 'group'\n",
      "Error al traducir violet: 'NoneType' object has no attribute 'group'\n",
      "Error al traducir teal: 'NoneType' object has no attribute 'group'\n",
      "Error al traducir lavender: 'NoneType' object has no attribute 'group'\n",
      "Error al traducir black: 'NoneType' object has no attribute 'group'\n",
      "Error al traducir green: 'NoneType' object has no attribute 'group'\n",
      "Error al traducir peach: 'NoneType' object has no attribute 'group'\n",
      "Error al traducir red: 'NoneType' object has no attribute 'group'\n",
      "Error al traducir cyan: 'NoneType' object has no attribute 'group'\n",
      "Error al traducir brown: 'NoneType' object has no attribute 'group'\n",
      "Error al traducir beige: 'NoneType' object has no attribute 'group'\n",
      "Error al traducir orange: 'NoneType' object has no attribute 'group'\n",
      "Error al traducir indigo: 'NoneType' object has no attribute 'group'\n",
      "Error al traducir yellow: 'NoneType' object has no attribute 'group'\n",
      "Error al traducir magenta: 'NoneType' object has no attribute 'group'\n",
      "Error al traducir blue: 'NoneType' object has no attribute 'group'\n",
      "Error al traducir winter: 'NoneType' object has no attribute 'group'\n",
      "Error al traducir spring: 'NoneType' object has no attribute 'group'\n",
      "Error al traducir summer: 'NoneType' object has no attribute 'group'\n",
      "Error al traducir fall: 'NoneType' object has no attribute 'group'\n",
      "Error al traducir yes: 'NoneType' object has no attribute 'group'\n",
      "Error al traducir no: 'NoneType' object has no attribute 'group'\n",
      "Error al traducir express: 'NoneType' object has no attribute 'group'\n",
      "Error al traducir free shipping: 'NoneType' object has no attribute 'group'\n",
      "Error al traducir next day air: 'NoneType' object has no attribute 'group'\n",
      "Error al traducir standard: 'NoneType' object has no attribute 'group'\n",
      "Error al traducir 2-day shipping: 'NoneType' object has no attribute 'group'\n",
      "Error al traducir store pickup: 'NoneType' object has no attribute 'group'\n",
      "Error al traducir yes: 'NoneType' object has no attribute 'group'\n",
      "Error al traducir no: 'NoneType' object has no attribute 'group'\n",
      "Error al traducir venmo: 'NoneType' object has no attribute 'group'\n",
      "Error al traducir cash: 'NoneType' object has no attribute 'group'\n",
      "Error al traducir credit card: 'NoneType' object has no attribute 'group'\n",
      "Error al traducir paypal: 'NoneType' object has no attribute 'group'\n",
      "Error al traducir bank transfer: 'NoneType' object has no attribute 'group'\n",
      "Error al traducir debit card: 'NoneType' object has no attribute 'group'\n",
      "Error al traducir fortnightly: 'NoneType' object has no attribute 'group'\n",
      "Error al traducir weekly: 'NoneType' object has no attribute 'group'\n",
      "Error al traducir annually: 'NoneType' object has no attribute 'group'\n",
      "Error al traducir quarterly: 'NoneType' object has no attribute 'group'\n",
      "Error al traducir bi-weekly: 'NoneType' object has no attribute 'group'\n",
      "Error al traducir monthly: 'NoneType' object has no attribute 'group'\n",
      "Error al traducir every 3 months: 'NoneType' object has no attribute 'group'\n"
     ]
    }
   ],
   "source": [
    "'''\n",
    "translator = Translator()\n",
    "\n",
    "for col in df_processed[no_numbers_columns].columns:\n",
    "    df_processed[col] = translate_unique_values(df_processed[col])\n",
    "\n",
    "columns = pd.Series(df_processed.columns)\n",
    "columns_es = translate_unique_values(columns)\n",
    "df_processed.columns = columns_es\n",
    "'''"
   ]
  },
  {
   "cell_type": "markdown",
   "metadata": {},
   "source": [
    "### Tipos de datos"
   ]
  },
  {
   "cell_type": "code",
   "execution_count": 264,
   "metadata": {},
   "outputs": [],
   "source": [
    "df_processed = df_processed.convert_dtypes(infer_objects=True)"
   ]
  },
  {
   "cell_type": "markdown",
   "metadata": {},
   "source": [
    "**Datos cualitativos: nominales u ordinales**"
   ]
  },
  {
   "cell_type": "code",
   "execution_count": 265,
   "metadata": {},
   "outputs": [],
   "source": [
    "df_processed.loc[df_processed['frequency_of_purchases']=='every 3 months', 'frequency_of_purchases'] = 'quarterly'\n",
    "df_processed.loc[df_processed['frequency_of_purchases']=='fortnightly', 'frequency_of_purchases'] = 'bi-weekly'"
   ]
  },
  {
   "cell_type": "code",
   "execution_count": 266,
   "metadata": {},
   "outputs": [],
   "source": [
    "df_processed[no_numbers_columns] = df_processed[no_numbers_columns].astype('category')"
   ]
  },
  {
   "cell_type": "code",
   "execution_count": 267,
   "metadata": {},
   "outputs": [],
   "source": [
    "df_processed['customer_id'] = df_processed['customer_id'].astype('object')"
   ]
  },
  {
   "cell_type": "markdown",
   "metadata": {},
   "source": [
    "**Datos cuantitativos**"
   ]
  },
  {
   "cell_type": "markdown",
   "metadata": {},
   "source": [
    "Rangos o clases"
   ]
  },
  {
   "cell_type": "code",
   "execution_count": 268,
   "metadata": {},
   "outputs": [],
   "source": [
    "bins = [0, 10, 12, 20, 60, 80, 110]\n",
    "labels = [\"niño\", \"preadolescente\", \"adolescente\", \"adulto\", \"tercera_edad\", \"cuarta_edad\"]\n",
    "\n",
    "df_processed['vital_stages'] = pd.cut(df_processed['age'], bins=bins, labels=labels, right=False)"
   ]
  },
  {
   "cell_type": "markdown",
   "metadata": {},
   "source": [
    "### Codificacion de datos"
   ]
  },
  {
   "cell_type": "markdown",
   "metadata": {},
   "source": [
    "Variables categoricas ordinales"
   ]
  },
  {
   "cell_type": "code",
   "execution_count": 269,
   "metadata": {},
   "outputs": [],
   "source": [
    "# Definir un diccionario con las categorías en orden\n",
    "\n",
    "ordinal_variables = {\n",
    "    'size': ['s', 'm', 'l', 'xl'],\n",
    "    'subscription_status': ['no', 'yes'],\n",
    "    'promo_code_used': ['no', 'yes'],\n",
    "    'frequency_of_purchases': ['weekly', 'bi-weekly', 'monthly', 'quarterly', 'annually'],\n",
    "    'vital_stages': ['adolescente', 'adulto', 'tercera_edad'],\n",
    "    'season': ['winter', 'spring', 'summer', 'fall']\n",
    "}"
   ]
  },
  {
   "cell_type": "markdown",
   "metadata": {},
   "source": [
    "Variables categoricas nominales"
   ]
  },
  {
   "cell_type": "code",
   "execution_count": 270,
   "metadata": {},
   "outputs": [],
   "source": [
    "nominal_variables = df_processed.select_dtypes(include='category').columns\n",
    "nominal_variables = [col for col in nominal_variables if col not in ordinal_variables.keys()]"
   ]
  },
  {
   "cell_type": "code",
   "execution_count": 271,
   "metadata": {},
   "outputs": [],
   "source": [
    "df_nominal_encoded_variables = pd.DataFrame({})\n",
    "\n",
    "# Inicializar el codificador\n",
    "label_encoders = {col: LabelEncoder() for col in nominal_variables}\n",
    "\n",
    "# Aplicar el codificador a las columnas nominales\n",
    "for col in nominal_variables:\n",
    "    df_nominal_encoded_variables[col] = label_encoders[col].fit_transform(df_processed[col])"
   ]
  },
  {
   "cell_type": "code",
   "execution_count": 272,
   "metadata": {},
   "outputs": [],
   "source": [
    "# Crear el ColumnTransformer con las transformaciones\n",
    "codification_ordinal_variables = ColumnTransformer(\n",
    "    transformers=[\n",
    "        ('ord', OrdinalEncoder(categories=list(ordinal_variables.values())), list(ordinal_variables.keys()))\n",
    "    ]\n",
    ")"
   ]
  },
  {
   "cell_type": "code",
   "execution_count": 273,
   "metadata": {},
   "outputs": [],
   "source": [
    "ordinal_encoded_variables = codification_ordinal_variables.fit_transform(df_processed)\n",
    "df_ordinal_encoded_variables = pd.DataFrame(ordinal_encoded_variables, \n",
    "                                            columns=codification_ordinal_variables.get_feature_names_out())"
   ]
  },
  {
   "cell_type": "markdown",
   "metadata": {},
   "source": [
    "### Escalamiento de datos"
   ]
  },
  {
   "cell_type": "code",
   "execution_count": 274,
   "metadata": {},
   "outputs": [],
   "source": [
    "# Crear el ColumnTransformer con las transformaciones\n",
    "escalation_numerical_variables = ColumnTransformer(\n",
    "    transformers=[\n",
    "        ('num', RobustScaler(), number_columns)\n",
    "    ]\n",
    ")"
   ]
  },
  {
   "cell_type": "code",
   "execution_count": 275,
   "metadata": {},
   "outputs": [],
   "source": [
    "# Escalar las variables numéricas\n",
    "scaled_numerical_variables = escalation_numerical_variables.fit_transform(df_processed[number_columns].copy())\n",
    "df_scaled_numerical_variables = pd.DataFrame(scaled_numerical_variables, columns=escalation_numerical_variables.get_feature_names_out(input_features=number_columns))"
   ]
  },
  {
   "cell_type": "code",
   "execution_count": 276,
   "metadata": {},
   "outputs": [
    {
     "data": {
      "text/html": [
       "<div>\n",
       "<style scoped>\n",
       "    .dataframe tbody tr th:only-of-type {\n",
       "        vertical-align: middle;\n",
       "    }\n",
       "\n",
       "    .dataframe tbody tr th {\n",
       "        vertical-align: top;\n",
       "    }\n",
       "\n",
       "    .dataframe thead th {\n",
       "        text-align: right;\n",
       "    }\n",
       "</style>\n",
       "<table border=\"1\" class=\"dataframe\">\n",
       "  <thead>\n",
       "    <tr style=\"text-align: right;\">\n",
       "      <th></th>\n",
       "      <th>num__customer_id</th>\n",
       "      <th>num__age</th>\n",
       "      <th>num__purchase_amount_usd</th>\n",
       "      <th>num__review_rating</th>\n",
       "      <th>num__previous_purchases</th>\n",
       "    </tr>\n",
       "  </thead>\n",
       "  <tbody>\n",
       "    <tr>\n",
       "      <th>0</th>\n",
       "      <td>-1.000000</td>\n",
       "      <td>0.423077</td>\n",
       "      <td>-0.166667</td>\n",
       "      <td>-0.461538</td>\n",
       "      <td>-0.44</td>\n",
       "    </tr>\n",
       "    <tr>\n",
       "      <th>1</th>\n",
       "      <td>-0.999487</td>\n",
       "      <td>-0.961538</td>\n",
       "      <td>0.095238</td>\n",
       "      <td>-0.461538</td>\n",
       "      <td>-0.92</td>\n",
       "    </tr>\n",
       "    <tr>\n",
       "      <th>2</th>\n",
       "      <td>-0.998974</td>\n",
       "      <td>0.230769</td>\n",
       "      <td>0.309524</td>\n",
       "      <td>-0.461538</td>\n",
       "      <td>-0.08</td>\n",
       "    </tr>\n",
       "    <tr>\n",
       "      <th>3</th>\n",
       "      <td>-0.998461</td>\n",
       "      <td>-0.884615</td>\n",
       "      <td>0.714286</td>\n",
       "      <td>-0.153846</td>\n",
       "      <td>0.96</td>\n",
       "    </tr>\n",
       "    <tr>\n",
       "      <th>4</th>\n",
       "      <td>-0.997948</td>\n",
       "      <td>0.038462</td>\n",
       "      <td>-0.261905</td>\n",
       "      <td>-0.769231</td>\n",
       "      <td>0.24</td>\n",
       "    </tr>\n",
       "    <tr>\n",
       "      <th>...</th>\n",
       "      <td>...</td>\n",
       "      <td>...</td>\n",
       "      <td>...</td>\n",
       "      <td>...</td>\n",
       "      <td>...</td>\n",
       "    </tr>\n",
       "    <tr>\n",
       "      <th>3895</th>\n",
       "      <td>0.997948</td>\n",
       "      <td>-0.153846</td>\n",
       "      <td>-0.761905</td>\n",
       "      <td>0.384615</td>\n",
       "      <td>0.28</td>\n",
       "    </tr>\n",
       "    <tr>\n",
       "      <th>3896</th>\n",
       "      <td>0.998461</td>\n",
       "      <td>0.307692</td>\n",
       "      <td>-0.261905</td>\n",
       "      <td>0.615385</td>\n",
       "      <td>0.64</td>\n",
       "    </tr>\n",
       "    <tr>\n",
       "      <th>3897</th>\n",
       "      <td>0.998974</td>\n",
       "      <td>0.076923</td>\n",
       "      <td>-0.642857</td>\n",
       "      <td>-0.615385</td>\n",
       "      <td>-0.04</td>\n",
       "    </tr>\n",
       "    <tr>\n",
       "      <th>3898</th>\n",
       "      <td>0.999487</td>\n",
       "      <td>0.000000</td>\n",
       "      <td>0.404762</td>\n",
       "      <td>0.076923</td>\n",
       "      <td>-0.04</td>\n",
       "    </tr>\n",
       "    <tr>\n",
       "      <th>3899</th>\n",
       "      <td>1.000000</td>\n",
       "      <td>0.307692</td>\n",
       "      <td>0.500000</td>\n",
       "      <td>-0.461538</td>\n",
       "      <td>0.32</td>\n",
       "    </tr>\n",
       "  </tbody>\n",
       "</table>\n",
       "<p>3900 rows × 5 columns</p>\n",
       "</div>"
      ],
      "text/plain": [
       "      num__customer_id  num__age  num__purchase_amount_usd  \\\n",
       "0            -1.000000  0.423077                 -0.166667   \n",
       "1            -0.999487 -0.961538                  0.095238   \n",
       "2            -0.998974  0.230769                  0.309524   \n",
       "3            -0.998461 -0.884615                  0.714286   \n",
       "4            -0.997948  0.038462                 -0.261905   \n",
       "...                ...       ...                       ...   \n",
       "3895          0.997948 -0.153846                 -0.761905   \n",
       "3896          0.998461  0.307692                 -0.261905   \n",
       "3897          0.998974  0.076923                 -0.642857   \n",
       "3898          0.999487  0.000000                  0.404762   \n",
       "3899          1.000000  0.307692                  0.500000   \n",
       "\n",
       "      num__review_rating  num__previous_purchases  \n",
       "0              -0.461538                    -0.44  \n",
       "1              -0.461538                    -0.92  \n",
       "2              -0.461538                    -0.08  \n",
       "3              -0.153846                     0.96  \n",
       "4              -0.769231                     0.24  \n",
       "...                  ...                      ...  \n",
       "3895            0.384615                     0.28  \n",
       "3896            0.615385                     0.64  \n",
       "3897           -0.615385                    -0.04  \n",
       "3898            0.076923                    -0.04  \n",
       "3899           -0.461538                     0.32  \n",
       "\n",
       "[3900 rows x 5 columns]"
      ]
     },
     "execution_count": 276,
     "metadata": {},
     "output_type": "execute_result"
    }
   ],
   "source": [
    "df_scaled_numerical_variables"
   ]
  },
  {
   "cell_type": "code",
   "execution_count": 277,
   "metadata": {},
   "outputs": [],
   "source": [
    "# Concatenar los DataFrames\n",
    "df_encoded_scaled = pd.concat([df_scaled_numerical_variables, df_ordinal_encoded_variables, df_nominal_encoded_variables], axis=1)"
   ]
  },
  {
   "cell_type": "markdown",
   "metadata": {},
   "source": [
    "## Resultado final"
   ]
  },
  {
   "cell_type": "markdown",
   "metadata": {},
   "source": [
    "### DataFrame para machine learning y correlaciones en EDA"
   ]
  },
  {
   "cell_type": "code",
   "execution_count": 278,
   "metadata": {},
   "outputs": [
    {
     "data": {
      "text/html": [
       "<div>\n",
       "<style scoped>\n",
       "    .dataframe tbody tr th:only-of-type {\n",
       "        vertical-align: middle;\n",
       "    }\n",
       "\n",
       "    .dataframe tbody tr th {\n",
       "        vertical-align: top;\n",
       "    }\n",
       "\n",
       "    .dataframe thead th {\n",
       "        text-align: right;\n",
       "    }\n",
       "</style>\n",
       "<table border=\"1\" class=\"dataframe\">\n",
       "  <thead>\n",
       "    <tr style=\"text-align: right;\">\n",
       "      <th></th>\n",
       "      <th>num__customer_id</th>\n",
       "      <th>num__age</th>\n",
       "      <th>num__purchase_amount_usd</th>\n",
       "      <th>num__review_rating</th>\n",
       "      <th>num__previous_purchases</th>\n",
       "      <th>ord__size</th>\n",
       "      <th>ord__subscription_status</th>\n",
       "      <th>ord__promo_code_used</th>\n",
       "      <th>ord__frequency_of_purchases</th>\n",
       "      <th>ord__vital_stages</th>\n",
       "      <th>ord__season</th>\n",
       "      <th>gender</th>\n",
       "      <th>item_purchased</th>\n",
       "      <th>category</th>\n",
       "      <th>location</th>\n",
       "      <th>color</th>\n",
       "      <th>shipping_type</th>\n",
       "      <th>payment_method</th>\n",
       "    </tr>\n",
       "  </thead>\n",
       "  <tbody>\n",
       "    <tr>\n",
       "      <th>2990</th>\n",
       "      <td>0.533727</td>\n",
       "      <td>0.961538</td>\n",
       "      <td>0.738095</td>\n",
       "      <td>0.384615</td>\n",
       "      <td>-0.04</td>\n",
       "      <td>1.0</td>\n",
       "      <td>0.0</td>\n",
       "      <td>0.0</td>\n",
       "      <td>2.0</td>\n",
       "      <td>2.0</td>\n",
       "      <td>3.0</td>\n",
       "      <td>0</td>\n",
       "      <td>16</td>\n",
       "      <td>1</td>\n",
       "      <td>12</td>\n",
       "      <td>20</td>\n",
       "      <td>2</td>\n",
       "      <td>5</td>\n",
       "    </tr>\n",
       "    <tr>\n",
       "      <th>1314</th>\n",
       "      <td>-0.325981</td>\n",
       "      <td>-0.076923</td>\n",
       "      <td>0.166667</td>\n",
       "      <td>-0.230769</td>\n",
       "      <td>0.96</td>\n",
       "      <td>0.0</td>\n",
       "      <td>0.0</td>\n",
       "      <td>1.0</td>\n",
       "      <td>4.0</td>\n",
       "      <td>1.0</td>\n",
       "      <td>2.0</td>\n",
       "      <td>1</td>\n",
       "      <td>3</td>\n",
       "      <td>2</td>\n",
       "      <td>24</td>\n",
       "      <td>11</td>\n",
       "      <td>2</td>\n",
       "      <td>3</td>\n",
       "    </tr>\n",
       "    <tr>\n",
       "      <th>3265</th>\n",
       "      <td>0.674788</td>\n",
       "      <td>-0.153846</td>\n",
       "      <td>0.952381</td>\n",
       "      <td>-0.384615</td>\n",
       "      <td>0.12</td>\n",
       "      <td>1.0</td>\n",
       "      <td>0.0</td>\n",
       "      <td>0.0</td>\n",
       "      <td>1.0</td>\n",
       "      <td>1.0</td>\n",
       "      <td>0.0</td>\n",
       "      <td>0</td>\n",
       "      <td>22</td>\n",
       "      <td>0</td>\n",
       "      <td>0</td>\n",
       "      <td>23</td>\n",
       "      <td>1</td>\n",
       "      <td>2</td>\n",
       "    </tr>\n",
       "    <tr>\n",
       "      <th>3399</th>\n",
       "      <td>0.743524</td>\n",
       "      <td>-0.153846</td>\n",
       "      <td>-0.119048</td>\n",
       "      <td>-0.307692</td>\n",
       "      <td>0.44</td>\n",
       "      <td>3.0</td>\n",
       "      <td>0.0</td>\n",
       "      <td>0.0</td>\n",
       "      <td>4.0</td>\n",
       "      <td>1.0</td>\n",
       "      <td>0.0</td>\n",
       "      <td>0</td>\n",
       "      <td>13</td>\n",
       "      <td>1</td>\n",
       "      <td>25</td>\n",
       "      <td>24</td>\n",
       "      <td>4</td>\n",
       "      <td>3</td>\n",
       "    </tr>\n",
       "  </tbody>\n",
       "</table>\n",
       "</div>"
      ],
      "text/plain": [
       "      num__customer_id  num__age  num__purchase_amount_usd  \\\n",
       "2990          0.533727  0.961538                  0.738095   \n",
       "1314         -0.325981 -0.076923                  0.166667   \n",
       "3265          0.674788 -0.153846                  0.952381   \n",
       "3399          0.743524 -0.153846                 -0.119048   \n",
       "\n",
       "      num__review_rating  num__previous_purchases  ord__size  \\\n",
       "2990            0.384615                    -0.04        1.0   \n",
       "1314           -0.230769                     0.96        0.0   \n",
       "3265           -0.384615                     0.12        1.0   \n",
       "3399           -0.307692                     0.44        3.0   \n",
       "\n",
       "      ord__subscription_status  ord__promo_code_used  \\\n",
       "2990                       0.0                   0.0   \n",
       "1314                       0.0                   1.0   \n",
       "3265                       0.0                   0.0   \n",
       "3399                       0.0                   0.0   \n",
       "\n",
       "      ord__frequency_of_purchases  ord__vital_stages  ord__season  gender  \\\n",
       "2990                          2.0                2.0          3.0       0   \n",
       "1314                          4.0                1.0          2.0       1   \n",
       "3265                          1.0                1.0          0.0       0   \n",
       "3399                          4.0                1.0          0.0       0   \n",
       "\n",
       "      item_purchased  category  location  color  shipping_type  payment_method  \n",
       "2990              16         1        12     20              2               5  \n",
       "1314               3         2        24     11              2               3  \n",
       "3265              22         0         0     23              1               2  \n",
       "3399              13         1        25     24              4               3  "
      ]
     },
     "execution_count": 278,
     "metadata": {},
     "output_type": "execute_result"
    }
   ],
   "source": [
    "df_encoded_scaled.sample(4, random_state=3)"
   ]
  },
  {
   "cell_type": "code",
   "execution_count": 279,
   "metadata": {},
   "outputs": [],
   "source": [
    "path_encoded_scaled_dataset = '../data/2_silver/df_encoded_scaled.csv'\n",
    "df_encoded_scaled.to_csv(path_encoded_scaled_dataset, index=False)"
   ]
  },
  {
   "cell_type": "markdown",
   "metadata": {},
   "source": [
    "### DataFrame para bi"
   ]
  },
  {
   "cell_type": "code",
   "execution_count": 280,
   "metadata": {},
   "outputs": [
    {
     "data": {
      "text/html": [
       "<div>\n",
       "<style scoped>\n",
       "    .dataframe tbody tr th:only-of-type {\n",
       "        vertical-align: middle;\n",
       "    }\n",
       "\n",
       "    .dataframe tbody tr th {\n",
       "        vertical-align: top;\n",
       "    }\n",
       "\n",
       "    .dataframe thead th {\n",
       "        text-align: right;\n",
       "    }\n",
       "</style>\n",
       "<table border=\"1\" class=\"dataframe\">\n",
       "  <thead>\n",
       "    <tr style=\"text-align: right;\">\n",
       "      <th></th>\n",
       "      <th>customer_id</th>\n",
       "      <th>age</th>\n",
       "      <th>gender</th>\n",
       "      <th>item_purchased</th>\n",
       "      <th>category</th>\n",
       "      <th>purchase_amount_usd</th>\n",
       "      <th>location</th>\n",
       "      <th>size</th>\n",
       "      <th>color</th>\n",
       "      <th>season</th>\n",
       "      <th>review_rating</th>\n",
       "      <th>subscription_status</th>\n",
       "      <th>shipping_type</th>\n",
       "      <th>promo_code_used</th>\n",
       "      <th>previous_purchases</th>\n",
       "      <th>payment_method</th>\n",
       "      <th>frequency_of_purchases</th>\n",
       "      <th>vital_stages</th>\n",
       "    </tr>\n",
       "  </thead>\n",
       "  <tbody>\n",
       "    <tr>\n",
       "      <th>2990</th>\n",
       "      <td>2991</td>\n",
       "      <td>69</td>\n",
       "      <td>female</td>\n",
       "      <td>shirt</td>\n",
       "      <td>clothing</td>\n",
       "      <td>91</td>\n",
       "      <td>illinois</td>\n",
       "      <td>m</td>\n",
       "      <td>teal</td>\n",
       "      <td>fall</td>\n",
       "      <td>4.2</td>\n",
       "      <td>no</td>\n",
       "      <td>free shipping</td>\n",
       "      <td>no</td>\n",
       "      <td>24</td>\n",
       "      <td>venmo</td>\n",
       "      <td>monthly</td>\n",
       "      <td>tercera_edad</td>\n",
       "    </tr>\n",
       "    <tr>\n",
       "      <th>1314</th>\n",
       "      <td>1315</td>\n",
       "      <td>42</td>\n",
       "      <td>male</td>\n",
       "      <td>boots</td>\n",
       "      <td>footwear</td>\n",
       "      <td>67</td>\n",
       "      <td>missouri</td>\n",
       "      <td>s</td>\n",
       "      <td>magenta</td>\n",
       "      <td>summer</td>\n",
       "      <td>3.4</td>\n",
       "      <td>no</td>\n",
       "      <td>free shipping</td>\n",
       "      <td>yes</td>\n",
       "      <td>49</td>\n",
       "      <td>debit card</td>\n",
       "      <td>annually</td>\n",
       "      <td>adulto</td>\n",
       "    </tr>\n",
       "    <tr>\n",
       "      <th>3265</th>\n",
       "      <td>3266</td>\n",
       "      <td>40</td>\n",
       "      <td>female</td>\n",
       "      <td>sunglasses</td>\n",
       "      <td>accessories</td>\n",
       "      <td>100</td>\n",
       "      <td>alabama</td>\n",
       "      <td>m</td>\n",
       "      <td>white</td>\n",
       "      <td>winter</td>\n",
       "      <td>3.2</td>\n",
       "      <td>no</td>\n",
       "      <td>express</td>\n",
       "      <td>no</td>\n",
       "      <td>28</td>\n",
       "      <td>credit card</td>\n",
       "      <td>bi-weekly</td>\n",
       "      <td>adulto</td>\n",
       "    </tr>\n",
       "    <tr>\n",
       "      <th>3399</th>\n",
       "      <td>3400</td>\n",
       "      <td>40</td>\n",
       "      <td>female</td>\n",
       "      <td>pants</td>\n",
       "      <td>clothing</td>\n",
       "      <td>55</td>\n",
       "      <td>montana</td>\n",
       "      <td>xl</td>\n",
       "      <td>yellow</td>\n",
       "      <td>winter</td>\n",
       "      <td>3.3</td>\n",
       "      <td>no</td>\n",
       "      <td>standard</td>\n",
       "      <td>no</td>\n",
       "      <td>36</td>\n",
       "      <td>debit card</td>\n",
       "      <td>annually</td>\n",
       "      <td>adulto</td>\n",
       "    </tr>\n",
       "  </tbody>\n",
       "</table>\n",
       "</div>"
      ],
      "text/plain": [
       "     customer_id  age  gender item_purchased     category  \\\n",
       "2990        2991   69  female          shirt     clothing   \n",
       "1314        1315   42    male          boots     footwear   \n",
       "3265        3266   40  female     sunglasses  accessories   \n",
       "3399        3400   40  female          pants     clothing   \n",
       "\n",
       "      purchase_amount_usd  location size    color  season  review_rating  \\\n",
       "2990                   91  illinois    m     teal    fall            4.2   \n",
       "1314                   67  missouri    s  magenta  summer            3.4   \n",
       "3265                  100   alabama    m    white  winter            3.2   \n",
       "3399                   55   montana   xl   yellow  winter            3.3   \n",
       "\n",
       "     subscription_status  shipping_type promo_code_used  previous_purchases  \\\n",
       "2990                  no  free shipping              no                  24   \n",
       "1314                  no  free shipping             yes                  49   \n",
       "3265                  no        express              no                  28   \n",
       "3399                  no       standard              no                  36   \n",
       "\n",
       "     payment_method frequency_of_purchases  vital_stages  \n",
       "2990          venmo                monthly  tercera_edad  \n",
       "1314     debit card               annually        adulto  \n",
       "3265    credit card              bi-weekly        adulto  \n",
       "3399     debit card               annually        adulto  "
      ]
     },
     "execution_count": 280,
     "metadata": {},
     "output_type": "execute_result"
    }
   ],
   "source": [
    "df_processed.sample(4, random_state=3)"
   ]
  },
  {
   "cell_type": "code",
   "execution_count": 281,
   "metadata": {},
   "outputs": [],
   "source": [
    "# guardo los dataframes procesados y escalados en la carpeta \"silver\"\n",
    "path_processed_dataset = '../data/3_gold/df_processed.csv'\n",
    "df_processed.to_csv(path_processed_dataset, index=False)"
   ]
  },
  {
   "cell_type": "code",
   "execution_count": 294,
   "metadata": {},
   "outputs": [
    {
     "data": {
      "text/plain": [
       "Index(['customer_id', 'age', 'gender', 'item_purchased', 'category_item',\n",
       "       'purchase_amount_usd', 'location', 'size', 'color', 'season',\n",
       "       'review_rating', 'subscription_status', 'shipping_type',\n",
       "       'promo_code_used', 'previous_purchases', 'payment_method',\n",
       "       'frequency_of_purchases', 'vital_stages'],\n",
       "      dtype='object')"
      ]
     },
     "execution_count": 294,
     "metadata": {},
     "output_type": "execute_result"
    }
   ],
   "source": [
    "df_processed.columns"
   ]
  },
  {
   "cell_type": "code",
   "execution_count": 300,
   "metadata": {},
   "outputs": [
    {
     "data": {
      "text/plain": [
       "['yes', 'no']\n",
       "Categories (2, string): [no, yes]"
      ]
     },
     "execution_count": 300,
     "metadata": {},
     "output_type": "execute_result"
    }
   ],
   "source": [
    "df_processed['subscription_status'].unique()"
   ]
  },
  {
   "cell_type": "code",
   "execution_count": 306,
   "metadata": {},
   "outputs": [
    {
     "data": {
      "text/plain": [
       "['adulto', 'adolescente', 'tercera_edad']\n",
       "Categories (6, object): ['niño' < 'preadolescente' < 'adolescente' < 'adulto' < 'tercera_edad' < 'cuarta_edad']"
      ]
     },
     "execution_count": 306,
     "metadata": {},
     "output_type": "execute_result"
    }
   ],
   "source": [
    "df_processed.vital_stages.unique()"
   ]
  },
  {
   "cell_type": "code",
   "execution_count": 283,
   "metadata": {},
   "outputs": [],
   "source": [
    "# columna origial\n",
    "# columna transfotmada\n",
    "# tipo dato transformado\n",
    "# variables transformadas"
   ]
  },
  {
   "cell_type": "markdown",
   "metadata": {},
   "source": [
    "# Tabla de Transformación de Datos\n",
    "\n",
    "| **Columna Original**           | **Columna Transformada**     | **Tipo de Dato Transformado** | **Variables Transformadas** |\n",
    "|-------------------------------|------------------------------|-------------------------------|------------------------------|\n",
    "| **Customer ID**               | `customer_id`                | `object`                      |                              |\n",
    "| **Age**                       | `age`                        | `int64`                       |                              |\n",
    "| **Gender**                    | `gender`                     | `category`                    | 'male', 'female'             |\n",
    "| **Item Purchased**            | `item_purchased`             | `category`                    | 'blouse', 'sweater', 'jeans', 'sandals', 'sneakers', ..., 'socks', 'backpack', 'belt', 'boots', 'gloves' |\n",
    "| **Category**                  | `category_item`              | `category`                    | 'clothing', 'footwear', 'outerwear', 'accessories' |\n",
    "| **Purchase Amount (USD)**     | `purchase_amount_usd`        | `int64`                       |                              |\n",
    "| **Location**                  | `location`                   | `category`                    | 'kentucky', 'maine', 'massachusetts', 'rhode island', 'oregon', ..., 'south dakota', 'minnesota', 'washington', 'wisconsin', 'michigan' |\n",
    "| **Size**                      | `size`                       | `category`                    | 'l', 's', 'm', 'xl'          |\n",
    "| **Color**                     | `color`                      | `category`                    | 'gray', 'maroon', 'turquoise', 'white', 'charcoal', ..., 'orange', 'indigo', 'yellow', 'magenta', 'blue' |\n",
    "| **Season**                    | `season`                     | `category`                    | 'winter', 'spring', 'summer', 'fall' |\n",
    "| **Review Rating**             | `review_rating`              | `float64`                     |                              |\n",
    "| **Subscription Status**       | `subscription_status`        | `category`                    | 'yes', 'no'                  |\n",
    "| **Shipping Type**             | `shipping_type`              | `category`                    | 'express', 'free shipping', 'next day air', 'standard', '2-day shipping', 'store pickup' |\n",
    "| **Promo Code Used**           | `promo_code_used`            | `category`                    | 'yes', 'no'                  |\n",
    "| **Previous Purchases**        | `previous_purchases`         | `int64`                       |                              |\n",
    "| **Payment Method**            | `payment_method`             | `category`                    | 'venmo', 'cash', 'credit card', 'paypal', 'bank transfer', 'debit card' |\n",
    "| **Frequency of Purchases**    | `frequency_of_purchases`     | `category`                    | 'bi-weekly', 'weekly', 'annually', 'quarterly', 'monthly' |\n",
    "| -                             | `vital_stages`               | `category`                    | 'adulto', 'adolescente', 'tercera_edad' |"
   ]
  }
 ],
 "metadata": {
  "kernelspec": {
   "display_name": "base",
   "language": "python",
   "name": "python3"
  },
  "language_info": {
   "codemirror_mode": {
    "name": "ipython",
    "version": 3
   },
   "file_extension": ".py",
   "mimetype": "text/x-python",
   "name": "python",
   "nbconvert_exporter": "python",
   "pygments_lexer": "ipython3",
   "version": "3.12.4"
  }
 },
 "nbformat": 4,
 "nbformat_minor": 2
}
