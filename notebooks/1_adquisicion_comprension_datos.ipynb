{
 "cells": [
  {
   "cell_type": "markdown",
   "metadata": {},
   "source": [
    "## Librerias y directorios"
   ]
  },
  {
   "cell_type": "markdown",
   "metadata": {},
   "source": [
    "### Importacion de librerias"
   ]
  },
  {
   "cell_type": "markdown",
   "metadata": {},
   "source": [
    "**El primer paso sera importar las librerias de Python que el proyecto requiere, El uso de estas bibliotecas nos permite cubrir todos los aspectos del procesamiento de datos, desde la adquisición hasta la manipulación y análisis de los mismos, incluyendo la identificación de posibles problemas como datos faltantes o errores en los valores de las columnas.**\n"
   ]
  },
  {
   "cell_type": "code",
   "execution_count": 2,
   "metadata": {
    "vscode": {
     "languageId": "powershell"
    }
   },
   "outputs": [],
   "source": [
    "# Bibliotecas para Manipulación de Datos y Análisis\n",
    "import pandas as pd \n",
    "import numpy as np \n",
    "\n",
    "# Bibliotecas para Manejo de Archivos\n",
    "import requests \n",
    "import zipfile  \n",
    "import os  \n",
    "\n",
    "# Visualización de Datos Perdidos\n",
    "import missingno as msno"
   ]
  },
  {
   "cell_type": "markdown",
   "metadata": {},
   "source": [
    "# Recolección y comprensión de los Datos\n",
    "\n",
    "\n",
    "\n"
   ]
  },
  {
   "cell_type": "markdown",
   "metadata": {},
   "source": [
    "- **Definimos la variable ``path_csv_update``, que almacena la ruta del archivo CSV que queremos procesar.**\n",
    "- **Utilizamos la función ``read_csv`` de la biblioteca pandas para cargar el archivo CSV en un DataFrame. Esto nos permite manejar y analizar los datos de forma más eficiente, aprovechando las capacidades de manipulación de datos de pandas.**"
   ]
  },
  {
   "cell_type": "code",
   "execution_count": 3,
   "metadata": {
    "vscode": {
     "languageId": "powershell"
    }
   },
   "outputs": [],
   "source": [
    "path_csv_update = '../data/bronze/shopping_behavior_updated.csv'\n",
    "df = pd.read_csv(path_csv_update)"
   ]
  },
  {
   "cell_type": "markdown",
   "metadata": {},
   "source": [
    "### Descubriendo los datos"
   ]
  },
  {
   "cell_type": "markdown",
   "metadata": {},
   "source": [
    "### Descripcion y estadisticas basicas\n",
    "\n",
    "**Luego se analizaran visualmente en la etapa de EDA**"
   ]
  },
  {
   "cell_type": "markdown",
   "metadata": {},
   "source": [
    "- **Utilizamos el método describe para obtener un resumen estadístico del conjunto de datos, que incluye métricas clave como la media, la desviación estándar, los valores mínimos, máximos, y los percentiles.**"
   ]
  },
  {
   "cell_type": "code",
   "execution_count": 10,
   "metadata": {
    "vscode": {
     "languageId": "powershell"
    }
   },
   "outputs": [
    {
     "data": {
      "text/html": [
       "<div>\n",
       "<style scoped>\n",
       "    .dataframe tbody tr th:only-of-type {\n",
       "        vertical-align: middle;\n",
       "    }\n",
       "\n",
       "    .dataframe tbody tr th {\n",
       "        vertical-align: top;\n",
       "    }\n",
       "\n",
       "    .dataframe thead th {\n",
       "        text-align: right;\n",
       "    }\n",
       "</style>\n",
       "<table border=\"1\" class=\"dataframe\">\n",
       "  <thead>\n",
       "    <tr style=\"text-align: right;\">\n",
       "      <th></th>\n",
       "      <th>Customer ID</th>\n",
       "      <th>Age</th>\n",
       "      <th>Gender</th>\n",
       "      <th>Item Purchased</th>\n",
       "      <th>Category</th>\n",
       "      <th>Purchase Amount (USD)</th>\n",
       "      <th>Location</th>\n",
       "      <th>Size</th>\n",
       "      <th>Color</th>\n",
       "      <th>Season</th>\n",
       "      <th>Review Rating</th>\n",
       "      <th>Subscription Status</th>\n",
       "      <th>Shipping Type</th>\n",
       "      <th>Discount Applied</th>\n",
       "      <th>Promo Code Used</th>\n",
       "      <th>Previous Purchases</th>\n",
       "      <th>Payment Method</th>\n",
       "      <th>Frequency of Purchases</th>\n",
       "    </tr>\n",
       "  </thead>\n",
       "  <tbody>\n",
       "    <tr>\n",
       "      <th>count</th>\n",
       "      <td>3900.000000</td>\n",
       "      <td>3900.000000</td>\n",
       "      <td>3900</td>\n",
       "      <td>3900</td>\n",
       "      <td>3900</td>\n",
       "      <td>3900.000000</td>\n",
       "      <td>3900</td>\n",
       "      <td>3900</td>\n",
       "      <td>3900</td>\n",
       "      <td>3900</td>\n",
       "      <td>3900.000000</td>\n",
       "      <td>3900</td>\n",
       "      <td>3900</td>\n",
       "      <td>3900</td>\n",
       "      <td>3900</td>\n",
       "      <td>3900.000000</td>\n",
       "      <td>3900</td>\n",
       "      <td>3900</td>\n",
       "    </tr>\n",
       "    <tr>\n",
       "      <th>unique</th>\n",
       "      <td>NaN</td>\n",
       "      <td>NaN</td>\n",
       "      <td>2</td>\n",
       "      <td>25</td>\n",
       "      <td>4</td>\n",
       "      <td>NaN</td>\n",
       "      <td>50</td>\n",
       "      <td>4</td>\n",
       "      <td>25</td>\n",
       "      <td>4</td>\n",
       "      <td>NaN</td>\n",
       "      <td>2</td>\n",
       "      <td>6</td>\n",
       "      <td>2</td>\n",
       "      <td>2</td>\n",
       "      <td>NaN</td>\n",
       "      <td>6</td>\n",
       "      <td>7</td>\n",
       "    </tr>\n",
       "    <tr>\n",
       "      <th>top</th>\n",
       "      <td>NaN</td>\n",
       "      <td>NaN</td>\n",
       "      <td>Male</td>\n",
       "      <td>Blouse</td>\n",
       "      <td>Clothing</td>\n",
       "      <td>NaN</td>\n",
       "      <td>Montana</td>\n",
       "      <td>M</td>\n",
       "      <td>Olive</td>\n",
       "      <td>Spring</td>\n",
       "      <td>NaN</td>\n",
       "      <td>No</td>\n",
       "      <td>Free Shipping</td>\n",
       "      <td>No</td>\n",
       "      <td>No</td>\n",
       "      <td>NaN</td>\n",
       "      <td>PayPal</td>\n",
       "      <td>Every 3 Months</td>\n",
       "    </tr>\n",
       "    <tr>\n",
       "      <th>freq</th>\n",
       "      <td>NaN</td>\n",
       "      <td>NaN</td>\n",
       "      <td>2652</td>\n",
       "      <td>171</td>\n",
       "      <td>1737</td>\n",
       "      <td>NaN</td>\n",
       "      <td>96</td>\n",
       "      <td>1755</td>\n",
       "      <td>177</td>\n",
       "      <td>999</td>\n",
       "      <td>NaN</td>\n",
       "      <td>2847</td>\n",
       "      <td>675</td>\n",
       "      <td>2223</td>\n",
       "      <td>2223</td>\n",
       "      <td>NaN</td>\n",
       "      <td>677</td>\n",
       "      <td>584</td>\n",
       "    </tr>\n",
       "    <tr>\n",
       "      <th>mean</th>\n",
       "      <td>1950.500000</td>\n",
       "      <td>44.068462</td>\n",
       "      <td>NaN</td>\n",
       "      <td>NaN</td>\n",
       "      <td>NaN</td>\n",
       "      <td>59.764359</td>\n",
       "      <td>NaN</td>\n",
       "      <td>NaN</td>\n",
       "      <td>NaN</td>\n",
       "      <td>NaN</td>\n",
       "      <td>3.749949</td>\n",
       "      <td>NaN</td>\n",
       "      <td>NaN</td>\n",
       "      <td>NaN</td>\n",
       "      <td>NaN</td>\n",
       "      <td>25.351538</td>\n",
       "      <td>NaN</td>\n",
       "      <td>NaN</td>\n",
       "    </tr>\n",
       "    <tr>\n",
       "      <th>std</th>\n",
       "      <td>1125.977353</td>\n",
       "      <td>15.207589</td>\n",
       "      <td>NaN</td>\n",
       "      <td>NaN</td>\n",
       "      <td>NaN</td>\n",
       "      <td>23.685392</td>\n",
       "      <td>NaN</td>\n",
       "      <td>NaN</td>\n",
       "      <td>NaN</td>\n",
       "      <td>NaN</td>\n",
       "      <td>0.716223</td>\n",
       "      <td>NaN</td>\n",
       "      <td>NaN</td>\n",
       "      <td>NaN</td>\n",
       "      <td>NaN</td>\n",
       "      <td>14.447125</td>\n",
       "      <td>NaN</td>\n",
       "      <td>NaN</td>\n",
       "    </tr>\n",
       "    <tr>\n",
       "      <th>min</th>\n",
       "      <td>1.000000</td>\n",
       "      <td>18.000000</td>\n",
       "      <td>NaN</td>\n",
       "      <td>NaN</td>\n",
       "      <td>NaN</td>\n",
       "      <td>20.000000</td>\n",
       "      <td>NaN</td>\n",
       "      <td>NaN</td>\n",
       "      <td>NaN</td>\n",
       "      <td>NaN</td>\n",
       "      <td>2.500000</td>\n",
       "      <td>NaN</td>\n",
       "      <td>NaN</td>\n",
       "      <td>NaN</td>\n",
       "      <td>NaN</td>\n",
       "      <td>1.000000</td>\n",
       "      <td>NaN</td>\n",
       "      <td>NaN</td>\n",
       "    </tr>\n",
       "    <tr>\n",
       "      <th>25%</th>\n",
       "      <td>975.750000</td>\n",
       "      <td>31.000000</td>\n",
       "      <td>NaN</td>\n",
       "      <td>NaN</td>\n",
       "      <td>NaN</td>\n",
       "      <td>39.000000</td>\n",
       "      <td>NaN</td>\n",
       "      <td>NaN</td>\n",
       "      <td>NaN</td>\n",
       "      <td>NaN</td>\n",
       "      <td>3.100000</td>\n",
       "      <td>NaN</td>\n",
       "      <td>NaN</td>\n",
       "      <td>NaN</td>\n",
       "      <td>NaN</td>\n",
       "      <td>13.000000</td>\n",
       "      <td>NaN</td>\n",
       "      <td>NaN</td>\n",
       "    </tr>\n",
       "    <tr>\n",
       "      <th>50%</th>\n",
       "      <td>1950.500000</td>\n",
       "      <td>44.000000</td>\n",
       "      <td>NaN</td>\n",
       "      <td>NaN</td>\n",
       "      <td>NaN</td>\n",
       "      <td>60.000000</td>\n",
       "      <td>NaN</td>\n",
       "      <td>NaN</td>\n",
       "      <td>NaN</td>\n",
       "      <td>NaN</td>\n",
       "      <td>3.700000</td>\n",
       "      <td>NaN</td>\n",
       "      <td>NaN</td>\n",
       "      <td>NaN</td>\n",
       "      <td>NaN</td>\n",
       "      <td>25.000000</td>\n",
       "      <td>NaN</td>\n",
       "      <td>NaN</td>\n",
       "    </tr>\n",
       "    <tr>\n",
       "      <th>75%</th>\n",
       "      <td>2925.250000</td>\n",
       "      <td>57.000000</td>\n",
       "      <td>NaN</td>\n",
       "      <td>NaN</td>\n",
       "      <td>NaN</td>\n",
       "      <td>81.000000</td>\n",
       "      <td>NaN</td>\n",
       "      <td>NaN</td>\n",
       "      <td>NaN</td>\n",
       "      <td>NaN</td>\n",
       "      <td>4.400000</td>\n",
       "      <td>NaN</td>\n",
       "      <td>NaN</td>\n",
       "      <td>NaN</td>\n",
       "      <td>NaN</td>\n",
       "      <td>38.000000</td>\n",
       "      <td>NaN</td>\n",
       "      <td>NaN</td>\n",
       "    </tr>\n",
       "    <tr>\n",
       "      <th>max</th>\n",
       "      <td>3900.000000</td>\n",
       "      <td>70.000000</td>\n",
       "      <td>NaN</td>\n",
       "      <td>NaN</td>\n",
       "      <td>NaN</td>\n",
       "      <td>100.000000</td>\n",
       "      <td>NaN</td>\n",
       "      <td>NaN</td>\n",
       "      <td>NaN</td>\n",
       "      <td>NaN</td>\n",
       "      <td>5.000000</td>\n",
       "      <td>NaN</td>\n",
       "      <td>NaN</td>\n",
       "      <td>NaN</td>\n",
       "      <td>NaN</td>\n",
       "      <td>50.000000</td>\n",
       "      <td>NaN</td>\n",
       "      <td>NaN</td>\n",
       "    </tr>\n",
       "  </tbody>\n",
       "</table>\n",
       "</div>"
      ],
      "text/plain": [
       "        Customer ID          Age Gender Item Purchased  Category  \\\n",
       "count   3900.000000  3900.000000   3900           3900      3900   \n",
       "unique          NaN          NaN      2             25         4   \n",
       "top             NaN          NaN   Male         Blouse  Clothing   \n",
       "freq            NaN          NaN   2652            171      1737   \n",
       "mean    1950.500000    44.068462    NaN            NaN       NaN   \n",
       "std     1125.977353    15.207589    NaN            NaN       NaN   \n",
       "min        1.000000    18.000000    NaN            NaN       NaN   \n",
       "25%      975.750000    31.000000    NaN            NaN       NaN   \n",
       "50%     1950.500000    44.000000    NaN            NaN       NaN   \n",
       "75%     2925.250000    57.000000    NaN            NaN       NaN   \n",
       "max     3900.000000    70.000000    NaN            NaN       NaN   \n",
       "\n",
       "        Purchase Amount (USD) Location  Size  Color  Season  Review Rating  \\\n",
       "count             3900.000000     3900  3900   3900    3900    3900.000000   \n",
       "unique                    NaN       50     4     25       4            NaN   \n",
       "top                       NaN  Montana     M  Olive  Spring            NaN   \n",
       "freq                      NaN       96  1755    177     999            NaN   \n",
       "mean                59.764359      NaN   NaN    NaN     NaN       3.749949   \n",
       "std                 23.685392      NaN   NaN    NaN     NaN       0.716223   \n",
       "min                 20.000000      NaN   NaN    NaN     NaN       2.500000   \n",
       "25%                 39.000000      NaN   NaN    NaN     NaN       3.100000   \n",
       "50%                 60.000000      NaN   NaN    NaN     NaN       3.700000   \n",
       "75%                 81.000000      NaN   NaN    NaN     NaN       4.400000   \n",
       "max                100.000000      NaN   NaN    NaN     NaN       5.000000   \n",
       "\n",
       "       Subscription Status  Shipping Type Discount Applied Promo Code Used  \\\n",
       "count                 3900           3900             3900            3900   \n",
       "unique                   2              6                2               2   \n",
       "top                     No  Free Shipping               No              No   \n",
       "freq                  2847            675             2223            2223   \n",
       "mean                   NaN            NaN              NaN             NaN   \n",
       "std                    NaN            NaN              NaN             NaN   \n",
       "min                    NaN            NaN              NaN             NaN   \n",
       "25%                    NaN            NaN              NaN             NaN   \n",
       "50%                    NaN            NaN              NaN             NaN   \n",
       "75%                    NaN            NaN              NaN             NaN   \n",
       "max                    NaN            NaN              NaN             NaN   \n",
       "\n",
       "        Previous Purchases Payment Method Frequency of Purchases  \n",
       "count          3900.000000           3900                   3900  \n",
       "unique                 NaN              6                      7  \n",
       "top                    NaN         PayPal         Every 3 Months  \n",
       "freq                   NaN            677                    584  \n",
       "mean             25.351538            NaN                    NaN  \n",
       "std              14.447125            NaN                    NaN  \n",
       "min               1.000000            NaN                    NaN  \n",
       "25%              13.000000            NaN                    NaN  \n",
       "50%              25.000000            NaN                    NaN  \n",
       "75%              38.000000            NaN                    NaN  \n",
       "max              50.000000            NaN                    NaN  "
      ]
     },
     "execution_count": 10,
     "metadata": {},
     "output_type": "execute_result"
    }
   ],
   "source": [
    "df.describe(include='all')"
   ]
  },
  {
   "cell_type": "markdown",
   "metadata": {},
   "source": [
    "### Extraccion de metadatos"
   ]
  },
  {
   "cell_type": "markdown",
   "metadata": {},
   "source": [
    "- **Utilizamos el método dtypes para obtener los nombres de las columnas del DataFrame y los tipos de datos asociados a cada una de ellas.**"
   ]
  },
  {
   "cell_type": "code",
   "execution_count": 11,
   "metadata": {
    "vscode": {
     "languageId": "powershell"
    }
   },
   "outputs": [
    {
     "data": {
      "text/plain": [
       "Customer ID                 int64\n",
       "Age                         int64\n",
       "Gender                     object\n",
       "Item Purchased             object\n",
       "Category                   object\n",
       "Purchase Amount (USD)       int64\n",
       "Location                   object\n",
       "Size                       object\n",
       "Color                      object\n",
       "Season                     object\n",
       "Review Rating             float64\n",
       "Subscription Status        object\n",
       "Shipping Type              object\n",
       "Discount Applied           object\n",
       "Promo Code Used            object\n",
       "Previous Purchases          int64\n",
       "Payment Method             object\n",
       "Frequency of Purchases     object\n",
       "dtype: object"
      ]
     },
     "execution_count": 11,
     "metadata": {},
     "output_type": "execute_result"
    }
   ],
   "source": [
    "df.dtypes"
   ]
  },
  {
   "cell_type": "markdown",
   "metadata": {},
   "source": [
    "- **Acá separamos los valores categoricos de los valores numericos, esto porque identificar las columnas categóricas es un paso fundamental en la comprensión de los datos porque te permite tomar decisiones informadas sobre cómo manejar y preparar las diferentes variables, ajustar técnicas de limpieza, visualización, y transformarlas correctamente para el análisis o modelado.**"
   ]
  },
  {
   "cell_type": "code",
   "execution_count": 12,
   "metadata": {
    "vscode": {
     "languageId": "powershell"
    }
   },
   "outputs": [],
   "source": [
    "categorical_variables = df.select_dtypes(exclude=['number']).columns"
   ]
  },
  {
   "cell_type": "markdown",
   "metadata": {},
   "source": [
    "1. **Creamos una serie vacía llamada `unique_categories`.**\n",
    "2. **Creamos un diccionario vacío llamado ``dict_unique_categories``.**\n",
    "\n",
    "- **Iteramos con un bucle for sobre cada columna en la lista ``categorical_variables``. En cada iteración:**\n",
    "\n",
    "    * Guardamos los valores únicos de esa columna en la serie ``unique_categories`` con la clave siendo el nombre de la columna.\n",
    "    * Guardamos el conteo de valores únicos de esa columna en el diccionario ``dict_unique_categories`` con la clave siendo el nombre de la columna\n",
    "\n",
    "\n",
    "\n",
    "\n",
    "\n",
    "\n"
   ]
  },
  {
   "cell_type": "code",
   "execution_count": 28,
   "metadata": {
    "vscode": {
     "languageId": "powershell"
    }
   },
   "outputs": [],
   "source": [
    "unique_categories = pd.Series({})\n",
    "dict_unique_categories = {}\n",
    "\n",
    "for column in categorical_variables:\n",
    "    unique_categories[column] = df[column].unique()\n",
    "    dict_unique_categories[column] = df[column].nunique()"
   ]
  },
  {
   "cell_type": "markdown",
   "metadata": {},
   "source": [
    "1. **Iteramos con un bucle for sobre cada par clave-valor en el diccionario `dict_unique_categories`.** \n",
    "\n",
    "    - En cada iteración del bucle:  \n",
    "\n",
    "        * key representa el nombre de la columna (la clave en el diccionario).\n",
    "\n",
    "        * value representa el conteo de valores únicos en esa columna (el valor en el diccionario).\n",
    "\n",
    "2. **Imprimimos una cadena formateada que muestra:**\n",
    "\n",
    "    * El nombre de la columna (key).\n",
    "    * El conteo de valores únicos en esa columna (value)."
   ]
  },
  {
   "cell_type": "code",
   "execution_count": 29,
   "metadata": {
    "vscode": {
     "languageId": "powershell"
    }
   },
   "outputs": [
    {
     "name": "stdout",
     "output_type": "stream",
     "text": [
      "Columna: Gender - Valores unicos: 2\n",
      "Columna: Item Purchased - Valores unicos: 25\n",
      "Columna: Category - Valores unicos: 4\n",
      "Columna: Location - Valores unicos: 50\n",
      "Columna: Size - Valores unicos: 4\n",
      "Columna: Color - Valores unicos: 25\n",
      "Columna: Season - Valores unicos: 4\n",
      "Columna: Subscription Status - Valores unicos: 2\n",
      "Columna: Shipping Type - Valores unicos: 6\n",
      "Columna: Discount Applied - Valores unicos: 2\n",
      "Columna: Promo Code Used - Valores unicos: 2\n",
      "Columna: Payment Method - Valores unicos: 6\n",
      "Columna: Frequency of Purchases - Valores unicos: 7\n"
     ]
    }
   ],
   "source": [
    "for key, value in dict_unique_categories.items():\n",
    "    print(f\"Columna: {key} - Valores unicos: {value}\")\n"
   ]
  },
  {
   "cell_type": "markdown",
   "metadata": {},
   "source": [
    "1. **Calculamos las frecuencias de los valores únicos en `unique_categories`.**\n",
    "\n",
    "   - Usamos el método `value_counts()` para contar cuántas veces aparece cada valor único en la serie `unique_categories`.\n",
    "   - Guardamos el resultado en la variable `count_unique_values`, que es una nueva serie con los valores únicos como índices y sus frecuencias como valores."
   ]
  },
  {
   "cell_type": "code",
   "execution_count": 32,
   "metadata": {
    "vscode": {
     "languageId": "powershell"
    }
   },
   "outputs": [],
   "source": [
    "count_unique_values = unique_categories.value_counts()"
   ]
  },
  {
   "cell_type": "code",
   "execution_count": 33,
   "metadata": {
    "vscode": {
     "languageId": "powershell"
    }
   },
   "outputs": [
    {
     "name": "stdout",
     "output_type": "stream",
     "text": [
      "[Male, Female]                                                                                                                                                                                                                                                                                                                                                                                                                                                                                                                                1\n",
      "[Blouse, Sweater, Jeans, Sandals, Sneakers, Shirt, Shorts, Coat, Handbag, Shoes, Dress, Skirt, Sunglasses, Pants, Jacket, Hoodie, Jewelry, T-shirt, Scarf, Hat, Socks, Backpack, Belt, Boots, Gloves]                                                                                                                                                                                                                                                                                                                                         1\n",
      "[Clothing, Footwear, Outerwear, Accessories]                                                                                                                                                                                                                                                                                                                                                                                                                                                                                                  1\n",
      "[Kentucky, Maine, Massachusetts, Rhode Island, Oregon, Wyoming, Montana, Louisiana, West Virginia, Missouri, Arkansas, Hawaii, Delaware, New Hampshire, New York, Alabama, Mississippi, North Carolina, California, Oklahoma, Florida, Texas, Nevada, Kansas, Colorado, North Dakota, Illinois, Indiana, Arizona, Alaska, Tennessee, Ohio, New Jersey, Maryland, Vermont, New Mexico, South Carolina, Idaho, Pennsylvania, Connecticut, Utah, Virginia, Georgia, Nebraska, Iowa, South Dakota, Minnesota, Washington, Wisconsin, Michigan]    1\n",
      "[L, S, M, XL]                                                                                                                                                                                                                                                                                                                                                                                                                                                                                                                                 1\n",
      "[Gray, Maroon, Turquoise, White, Charcoal, Silver, Pink, Purple, Olive, Gold, Violet, Teal, Lavender, Black, Green, Peach, Red, Cyan, Brown, Beige, Orange, Indigo, Yellow, Magenta, Blue]                                                                                                                                                                                                                                                                                                                                                    1\n",
      "[Winter, Spring, Summer, Fall]                                                                                                                                                                                                                                                                                                                                                                                                                                                                                                                1\n",
      "[Yes, No]                                                                                                                                                                                                                                                                                                                                                                                                                                                                                                                                     1\n",
      "[Express, Free Shipping, Next Day Air, Standard, 2-Day Shipping, Store Pickup]                                                                                                                                                                                                                                                                                                                                                                                                                                                                1\n",
      "[Yes, No]                                                                                                                                                                                                                                                                                                                                                                                                                                                                                                                                     1\n",
      "[Yes, No]                                                                                                                                                                                                                                                                                                                                                                                                                                                                                                                                     1\n",
      "[Venmo, Cash, Credit Card, PayPal, Bank Transfer, Debit Card]                                                                                                                                                                                                                                                                                                                                                                                                                                                                                 1\n",
      "[Fortnightly, Weekly, Annually, Quarterly, Bi-Weekly, Monthly, Every 3 Months]                                                                                                                                                                                                                                                                                                                                                                                                                                                                1\n",
      "Name: count, dtype: int64\n"
     ]
    }
   ],
   "source": [
    "print(count_unique_values)"
   ]
  },
  {
   "cell_type": "markdown",
   "metadata": {},
   "source": [
    "### Variables del Dataset\n",
    "\n",
    "| Columna                   | Tipo de dato | Descripción                                      | Variables únicas                                                      |\n",
    "|----------------------------|--------------|--------------------------------------------------|-----------------------------------------------------------------------|\n",
    "| **Customer ID**            | int64        | Identificador único para cada cliente            | -                                                                     |\n",
    "| **Age**                    | int64        | Edad del cliente                                 | -                                                                     |\n",
    "| **Gender**                 | category     | Género del cliente                               | Male, Female                                                          |\n",
    "| **Item Purchased**         | category     | Producto adquirido                               | Blouse, Sweater, Jeans, Sandals, Sneakers, Shirt, Shorts, Coat, Handbag, Shoes, Dress, Skirt, Sunglasses, Pants, Jacket, Hoodie, Jewelry, T-shirt, Scarf, Hat, Socks, Backpack, Belt, Boots, Gloves |\n",
    "| **Category**               | category     | Categoría del producto                           | Clothing, Footwear, Outerwear, Accessories                            |\n",
    "| **Purchase Amount (USD)**  | int64        | Monto total de la compra en dólares              | -                                                                     |\n",
    "| **Location**               | category     | Ubicación geográfica del cliente                 | Kentucky, Maine, Massachusetts, Rhode Island, Oregon, Wyoming, Montana, Louisiana, West Virginia, Missouri, Arkansas, Hawaii, Delaware, New Hampshire, New York, Alabama, Mississippi, North Carolina, California, Oklahoma, Florida, Texas, Nevada, Kansas, Colorado, North Dakota, Illinois, Indiana, Arizona, Alaska, Tennessee, Ohio, New Jersey, Maryland, Vermont, New Mexico, South Carolina, Idaho, Pennsylvania, Connecticut, Utah, Virginia, Georgia, Nebraska, Iowa, South Dakota, Minnesota, Washington, Wisconsin, Michigan |\n",
    "| **Size**                   | category     | Talla del producto                               | L, S, M, XL                                                           |\n",
    "| **Color**                  | category     | Color del producto                               | Gray, Maroon, Turquoise, White, Charcoal, Silver, Pink, Purple, Olive, Gold, Violet, Teal, Lavender, Black, Green, Peach, Red, Cyan, Brown, Beige, Orange, Indigo, Yellow, Magenta, Blue |\n",
    "| **Season**                 | category     | Temporada de la compra                           | Winter, Spring, Summer, Fall                                                 |\n",
    "| **Review Rating**          | float64      | Calificación del producto por parte del cliente  | -                                                                            |\n",
    "| **Subscription Status**    | category     | Estado de la suscripción del cliente             | Yes, No                                                                      |\n",
    "| **Shipping Type**          | category     | Tipo de envío seleccionado                       | Express, Free Shipping, Next Day Air, Standard, 2-Day Shipping, Store Pickup |\n",
    "| **Discount Applied**       | category     | Indica si se aplicó un descuento                 | Yes, No                                                                      |\n",
    "| **Promo Code Used**        | category     | Indica si se utilizó un código promocional       | Yes, No                                                                      |\n",
    "| **Previous Purchases**     | int64        | Número de compras anteriores del cliente         | -                                                                            |\n",
    "| **Payment Method**         | category     | Método de pago utilizado                         | Venmo, Cash, Credit Card, PayPal, Bank Transfer, Debit Card                  |\n",
    "| **Frequency of Purchases** | category     | Frecuencia con la que el cliente realiza compras | Fortnightly, Weekly, Annually, Quarterly, Bi-Weekly, Monthly, Every 3 Months |"
   ]
  },
  {
   "cell_type": "code",
   "execution_count": null,
   "metadata": {
    "vscode": {
     "languageId": "powershell"
    }
   },
   "outputs": [],
   "source": []
  },
  {
   "cell_type": "markdown",
   "metadata": {},
   "source": [
    "### Guardado de datasets"
   ]
  },
  {
   "cell_type": "code",
   "execution_count": 76,
   "metadata": {
    "vscode": {
     "languageId": "powershell"
    }
   },
   "outputs": [],
   "source": [
    "# guardo los dataframes con archivo .csv dentro de la carpeta \"bronze\"\n",
    "path_csv = '../data/bronze/clients_behavior.csv'\n",
    "df.to_csv(path_csv_from_library, index=False)"
   ]
  }
 ],
 "metadata": {
  "kernelspec": {
   "display_name": "Python 3",
   "language": "python",
   "name": "python3"
  },
  "language_info": {
   "codemirror_mode": {
    "name": "ipython",
    "version": 3
   },
   "file_extension": ".py",
   "mimetype": "text/x-python",
   "name": "python",
   "nbconvert_exporter": "python",
   "pygments_lexer": "ipython3",
   "version": "3.12.0"
  }
 },
 "nbformat": 4,
 "nbformat_minor": 2
}
